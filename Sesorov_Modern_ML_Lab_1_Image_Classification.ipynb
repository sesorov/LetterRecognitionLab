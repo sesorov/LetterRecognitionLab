{
  "nbformat": 4,
  "nbformat_minor": 0,
  "metadata": {
    "kernelspec": {
      "display_name": "Python 3",
      "language": "python",
      "name": "python3"
    },
    "language_info": {
      "codemirror_mode": {
        "name": "ipython",
        "version": 3
      },
      "file_extension": ".py",
      "mimetype": "text/x-python",
      "name": "python",
      "nbconvert_exporter": "python",
      "pygments_lexer": "ipython3",
      "version": "3.8.5"
    },
    "colab": {
      "name": "Sesorov_Modern_ML.Lab_1.Image_Classification.ipynb",
      "provenance": [],
      "collapsed_sections": [
        "VI1Xeif4Z6z4",
        "4V2KyDRfZ6z5",
        "pQ6fA4xrZ6z5"
      ]
    }
  },
  "cells": [
    {
      "cell_type": "markdown",
      "metadata": {
        "id": "-aR3UMBNZ6zq"
      },
      "source": [
        "# <center> Майнор \"Интеллектуальный анализ данных\" </center>"
      ]
    },
    {
      "cell_type": "markdown",
      "metadata": {
        "id": "WVfAWvsbZ6zw"
      },
      "source": [
        "# <center> Курс \"Современные методы машинного обучения\" </center>"
      ]
    },
    {
      "cell_type": "markdown",
      "metadata": {
        "id": "nM5J92raZ6zw"
      },
      "source": [
        "# <center> Лабораторная работа №1. Image Classification. </center>"
      ]
    },
    {
      "cell_type": "markdown",
      "metadata": {
        "id": "rXdu9Y_sZ6zx"
      },
      "source": [
        "В данной лабораторной работе вам предлагается обучить модель на основе нейронной сети для распознавания рукописных букв английского алфавита."
      ]
    },
    {
      "cell_type": "markdown",
      "metadata": {
        "id": "COKPA_72Z6zx"
      },
      "source": [
        "## Данные"
      ]
    },
    {
      "cell_type": "markdown",
      "metadata": {
        "id": "ZLIAudCAZ6zy"
      },
      "source": [
        "Данные представлены двумя датасетами: обучающим (`train`) и тестовым (`test`). Изображения для каждого датасета находятся в `images.zip`.  \n",
        "  \n",
        "Обучающая выборка состоит из 65000 изображений - по 2500 изображений для каждой буквы.  \n",
        "Тестовая выборка состоит из 13000 изображений - по 500 изображений для каждой буквы.  \n",
        "  \n",
        "Все изображения - монохромные (но в формате RGB), размерности $28 \\times 28$ пикселей, в формате JPEG. \n",
        "В названии каждого файла содержатся буква, которая представлена на изображении, и уникальный номер изображения: `a_00002.jpg`.  \n",
        "  \n",
        "**NB:** Все изображения представлены в перевернутом виде, для корректного отображения их нужно сначала транспонировать. "
      ]
    },
    {
      "cell_type": "code",
      "metadata": {
        "id": "Z4xE9I4IZ6zz"
      },
      "source": [
        "import os\n",
        "import datetime\n",
        "import numpy as np\n",
        "import matplotlib.pyplot as plt\n",
        "import seaborn as sns\n",
        "import pandas as pd\n",
        "import torch\n",
        "import torch.nn as nn\n",
        "import torch.nn.functional as F\n",
        "import torchvision\n",
        "import torchvision.transforms as transforms\n",
        "import torchvision.models as models\n",
        "import torch.optim as optim\n",
        "\n",
        "from pathlib import Path\n",
        "from torch.utils.data.sampler import SubsetRandomSampler\n",
        "from sklearn.model_selection import train_test_split\n",
        "from sklearn.metrics import confusion_matrix\n",
        "from torch.utils.tensorboard import SummaryWriter"
      ],
      "execution_count": 1,
      "outputs": []
    },
    {
      "cell_type": "code",
      "metadata": {
        "id": "QE1y5zt3-Of4"
      },
      "source": [
        "DEVICE_TYPE = \"cuda\" if torch.cuda.is_available() else \"cpu\"\n",
        "#jupyter notebook --NotebookApp.allow_origin='https://colab.research.google.com' --port=8888 --NotebookApp.port_retries=0"
      ],
      "execution_count": 2,
      "outputs": []
    },
    {
      "cell_type": "code",
      "metadata": {
        "id": "BQ5G5Y5QKv0P"
      },
      "source": [
        "try:\n",
        "    from google.colab import drive\n",
        "    drive.mount('/content/drive')\n",
        "    IN_COLAB = True\n",
        "except:\n",
        "    IN_COLAB = False\n",
        "\n",
        "data_root = '/content/drive/MyDrive/Neural Networks/images/' if IN_COLAB else 'C:\\\\Users\\\\samws\\\\Desktop\\\\images'"
      ],
      "execution_count": 3,
      "outputs": []
    },
    {
      "cell_type": "code",
      "metadata": {
        "id": "2XVdLxNyZ6z1",
        "colab": {
          "base_uri": "https://localhost:8080/"
        },
        "outputId": "488ad002-9f8d-44d0-931a-31666210f233"
      },
      "source": [
        "pic = plt.imread(f'{data_root}/train/a/a_00002.jpg')\n",
        "print(pic.shape)"
      ],
      "execution_count": 4,
      "outputs": [
        {
          "output_type": "stream",
          "name": "stdout",
          "text": [
            "(28, 28, 3)\n"
          ]
        }
      ]
    },
    {
      "cell_type": "code",
      "metadata": {
        "id": "AKxhOacwZ6z2"
      },
      "source": [
        "pic = np.transpose(pic, axes=(1, 0, 2))"
      ],
      "execution_count": 5,
      "outputs": []
    },
    {
      "cell_type": "code",
      "metadata": {
        "id": "-WC7Y54kZ6z3",
        "colab": {
          "base_uri": "https://localhost:8080/",
          "height": 159
        },
        "outputId": "45890240-09a9-41f4-f5cc-5bbe3cc914e1"
      },
      "source": [
        "plt.figure(figsize=(2,2))\n",
        "plt.imshow(pic)\n",
        "plt.show()"
      ],
      "execution_count": 6,
      "outputs": [
        {
          "output_type": "display_data",
          "data": {
            "text/plain": [
              "<Figure size 144x144 with 1 Axes>"
            ],
            "image/png": "[encoded data removed]"
          },
          "metadata": {
            "needs_background": "light"
          }
        }
      ]
    },
    {
      "cell_type": "code",
      "metadata": {
        "id": "EouAy5Hu9uOY"
      },
      "source": [
        "class ImageDataset(torch.utils.data.Dataset): \n",
        "    \n",
        "    def __init__(self, x, y):\n",
        "        self.x=x\n",
        "        self.y=y\n",
        "        \n",
        "    def __len__(self):\n",
        "        return len(self.x)\n",
        "    \n",
        "    def __getitem__(self, idx):\n",
        "           \n",
        "        return self.x[idx], self.y[idx]"
      ],
      "execution_count": 7,
      "outputs": []
    },
    {
      "cell_type": "code",
      "metadata": {
        "id": "ZSTsVU5t95Bz"
      },
      "source": [
        "def format_targets(path):\n",
        "    data=[]\n",
        "    targets=[]\n",
        "    \n",
        "    for root, dirs, _ in os.walk(path):\n",
        "        for i, dir in enumerate(dirs):\n",
        "            for file in os.listdir(f\"{root}/{dir}\"):\n",
        "                pic = plt.imread(f\"{root}/{dir}/{file}\")\n",
        "                pic = torch.tensor(np.transpose(pic, axes=(1, 0, 2)))\n",
        "                pic = torch.div(pic, 255)   # fix for scalar-byte error\n",
        " \n",
        "                data.append(pic)\n",
        "                targets.append(i)\n",
        "    return data, targets"
      ],
      "execution_count": 17,
      "outputs": []
    },
    {
      "cell_type": "code",
      "metadata": {
        "id": "DXhAbsXDLpYw"
      },
      "source": [
        "X, y = format_targets(f\"{data_root}/train\")"
      ],
      "execution_count": 18,
      "outputs": []
    },
    {
      "cell_type": "code",
      "metadata": {
        "id": "5yTdcb4oMaRd"
      },
      "source": [
        "X_test, y_test = format_targets(f\"{data_root}/test\")"
      ],
      "execution_count": 19,
      "outputs": []
    },
    {
      "cell_type": "code",
      "metadata": {
        "id": "gCSMmC0Y-Avq"
      },
      "source": [
        "X_train, X_val, y_train, y_val = train_test_split(X, y, test_size=0.3)"
      ],
      "execution_count": 20,
      "outputs": []
    },
    {
      "cell_type": "code",
      "metadata": {
        "id": "zAzVypo--DKs"
      },
      "source": [
        "dataset_train = ImageDataset(X_train, y_train)\n",
        "dataset_val = ImageDataset(X_val, y_val)\n",
        "dataset_test = ImageDataset(X_test, y_test)"
      ],
      "execution_count": 21,
      "outputs": []
    },
    {
      "cell_type": "code",
      "metadata": {
        "id": "nucpoLyc-K1x"
      },
      "source": [
        "class Model():\n",
        "    def __init__(self, model, mode, datasets, batch_size, criterion, \n",
        "                 optimizer, tensorboard=True, device_type=DEVICE_TYPE, \n",
        "                 metrics_path=\"model-results/\"):\n",
        "        self.model = model\n",
        "        self.mode = mode\n",
        "        self.criterion = criterion\n",
        "        self.optimizer = optimizer\n",
        "        self.metrics_path = metrics_path\n",
        "        self.shape = np.array([np.array(i) for i in datasets[0][1][0]]).shape\n",
        "        self.model_name = f\"{model.__class__.__name__}--{str(datetime.datetime.now()).replace(' ', '--').replace(':', '-').split('.')[0]}\"\n",
        "        self.device(device_type)\n",
        "        self.batch_size = batch_size\n",
        "        self.data_loader(datasets, batch_size)\n",
        "        \n",
        "        if tensorboard:\n",
        "            self.tb = SummaryWriter()\n",
        "\n",
        "    def device(self, device):\n",
        "        self.device_type = device\n",
        "        if device == \"cuda\":\n",
        "            self.device = torch.device(\"cuda:0\" if torch.cuda.is_available() else \"cpu\")\n",
        "            self.model.to(self.device)\n",
        "\n",
        "    def save_model(self):\n",
        "        torch.save(self.model.state_dict(), f\"{self.metrics_path}parameters/{self.model_name}.pt\")\n",
        "\n",
        "    def data_loader(self, datasets, batch_size):\n",
        "        if self.device_type==\"cuda\":\n",
        "            self.train_dataloader = torch.utils.data.DataLoader(datasets[0], batch_size, shuffle=True)\n",
        "            self.val_dataloader = torch.utils.data.DataLoader(datasets[1], batch_size)\n",
        "            self.test_dataloader = torch.utils.data.DataLoader(datasets[2], batch_size)\n",
        "\n",
        "    def learn(self, epochs):\n",
        "        for epoch in range(epochs):\n",
        "            print(f\"Epoch {epoch + 1}:\")\n",
        "            train_loss, train_acc = self.train()\n",
        "            val_loss, val_acc = self.validate()\n",
        "            self.tensorboard([['Training Loss', train_loss, epoch],\n",
        "                              ['Validation Loss', val_loss, epoch],\n",
        "                              ['Traning Accuracy', train_acc, epoch],\n",
        "                              ['Validation Accuracy', val_acc, epoch],\n",
        "                              ['Learning Rate', self.optimizer.param_groups[0]['lr'], epoch]])\n",
        "        print(\"=============================\")\n",
        "\n",
        "    def train(self):\n",
        "        size = len(self.train_dataloader.dataset)\n",
        "        self.model.train()\n",
        "\n",
        "        final_loss = 0\n",
        "        final_acc = 0\n",
        "        correct = 0\n",
        "\n",
        "        for i, (X, y) in enumerate(self.train_dataloader):\n",
        "            if self.mode == 'NCHW':\n",
        "                X = X.permute(0, 3, 1, 2)\n",
        "                    \n",
        "            X = X.to(self.device_type)\n",
        "            y = y.to(self.device_type)\n",
        "\n",
        "            # Calculating loss\n",
        "            output = self.model(X)\n",
        "            loss = self.criterion(output, y)\n",
        "\n",
        "            # Backpropagation\n",
        "            self.optimizer.zero_grad()   # zero the parameter gradients\n",
        "            loss.backward()\n",
        "            self.optimizer.step()\n",
        "\n",
        "            _, predicted = torch.max(output, 1)\n",
        "            correct += (predicted == y).sum().item()\n",
        "\n",
        "            if i % 100 == 0:\n",
        "                loss, current = loss.item(), i * len(X)\n",
        "                final_loss = loss\n",
        "                print(f\"[TRAIN] [{current:>5d}/{size:>5d}] Loss: {loss:>3f}\")\n",
        "\n",
        "        final_acc = (correct / size) * 100\n",
        "            \n",
        "        return final_loss, final_acc\n",
        "\n",
        "    def validate(self, log=True):\n",
        "        size = len(self.val_dataloader.dataset)\n",
        "        num_batches = len(self.val_dataloader)\n",
        "        self.model.eval()\n",
        "        loss, correct = 0, 0\n",
        "\n",
        "        with torch.no_grad():\n",
        "            for X, y in self.val_dataloader:\n",
        "                if self.mode == 'NCHW':\n",
        "                    X = X.permute(0, 3, 1, 2)\n",
        "                    \n",
        "                X = X.to(self.device_type)\n",
        "                y = y.to(self.device_type)\n",
        "\n",
        "                # Calculating loss\n",
        "                output = self.model(X)\n",
        "                loss += self.criterion(output, y).item()\n",
        "\n",
        "                _, predicted = torch.max(output, 1)\n",
        "                correct += (predicted == y).sum().item()\n",
        "        loss /= num_batches\n",
        "        correct /= size\n",
        "        acc = 100 * correct\n",
        "\n",
        "        print(f\"[VALIDATION] Stats:\\nAccuracy: {acc:>0.1f}%\\nAverage loss: {loss:>6f}\\n\")\n",
        "        return loss, acc\n",
        "\n",
        "    def get_accuracy(self):\n",
        "        size = len(self.test_dataloader.dataset)\n",
        "        correct = 0\n",
        "        total = 0\n",
        "        predictions = []\n",
        "        \n",
        "        with torch.no_grad():\n",
        "            for X, y in self.test_dataloader:\n",
        "                if self.mode == 'NCHW':\n",
        "                    X = X.permute(0, 3, 1, 2)\n",
        "\n",
        "                X = X.to(self.device_type)\n",
        "                y = y.to(self.device_type)\n",
        "\n",
        "                output = self.model(X)\n",
        "                _, predicted = torch.max(output, 1)\n",
        "                predictions.extend(predicted)\n",
        "                total += y.size(0)\n",
        "                correct += (predicted == y).sum().item()\n",
        "\n",
        "        self.predictions = list(map(lambda x : x.item(), predictions))         \n",
        "        print(f'Accuracy of {self.model_name} on {size} test images: {(correct / total) * 100}%')\n",
        "\n",
        "    def get_predictions(self):\n",
        "        if not self.predictions:\n",
        "            self.get_accuracy()\n",
        "        return self.predictions\n",
        "\n",
        "    def tensorboard(self, *scalars):\n",
        "        for name, scalar, epoch in scalars[0]:\n",
        "            self.tb.add_scalar(name, scalar, epoch)"
      ],
      "execution_count": 130,
      "outputs": []
    },
    {
      "cell_type": "markdown",
      "metadata": {
        "id": "VdL-x2nCNsxk"
      },
      "source": [
        "**Задание 1**"
      ]
    },
    {
      "cell_type": "markdown",
      "metadata": {
        "id": "9kG4PYFaNzOs"
      },
      "source": [
        "*Модель с 2 полносвязными слоями:*"
      ]
    },
    {
      "cell_type": "code",
      "metadata": {
        "id": "IqqtoK6zN31u"
      },
      "source": [
        "class NN_2d(nn.Module):\n",
        "    def __init__(self):\n",
        "        super(NN_2d, self).__init__()\n",
        "        self.flatten = nn.Flatten()\n",
        "        self.layers = nn.Sequential(\n",
        "            nn.Linear(28 * 28 * 3, 256),\n",
        "            nn.SiLU(),\n",
        "            nn.Linear(256, 26)\n",
        "        )\n",
        "\n",
        "    def forward(self, x):\n",
        "        x = self.layers(self.flatten(x))\n",
        "        return x"
      ],
      "execution_count": 22,
      "outputs": []
    },
    {
      "cell_type": "code",
      "metadata": {
        "id": "5Dy6SRe3OPsL"
      },
      "source": [
        "nn_2d_model = NN_2d()\n",
        "nn_2d = Model(model=nn_2d_model, mode='NHWC', \n",
        "              datasets=[dataset_train, dataset_val, dataset_test],\n",
        "              batch_size=32, criterion=nn.CrossEntropyLoss(), \n",
        "              optimizer=optim.SGD(nn_2d_model.parameters(), lr=0.001, momentum=0.9))"
      ],
      "execution_count": 23,
      "outputs": []
    },
    {
      "cell_type": "code",
      "metadata": {
        "colab": {
          "base_uri": "https://localhost:8080/"
        },
        "id": "do1lMj7MPV3H",
        "outputId": "6693113d-e6b4-4916-b306-ae2d35410001"
      },
      "source": [
        "nn_2d.learn(10)"
      ],
      "execution_count": 27,
      "outputs": [
        {
          "output_type": "stream",
          "name": "stdout",
          "text": [
            "Epoch 1:\n",
            "[TRAIN] [    0/45500] Loss: 0.266134\n",
            "[TRAIN] [ 3200/45500] Loss: 0.123073\n",
            "[TRAIN] [ 6400/45500] Loss: 0.304276\n",
            "[TRAIN] [ 9600/45500] Loss: 0.197955\n",
            "[TRAIN] [12800/45500] Loss: 0.577057\n",
            "[TRAIN] [16000/45500] Loss: 0.340216\n",
            "[TRAIN] [19200/45500] Loss: 0.159241\n",
            "[TRAIN] [22400/45500] Loss: 0.212899\n",
            "[TRAIN] [25600/45500] Loss: 0.227090\n",
            "[TRAIN] [28800/45500] Loss: 0.317415\n",
            "[TRAIN] [32000/45500] Loss: 0.228027\n",
            "[TRAIN] [35200/45500] Loss: 0.316122\n",
            "[TRAIN] [38400/45500] Loss: 0.419588\n",
            "[TRAIN] [41600/45500] Loss: 0.915117\n",
            "[TRAIN] [44800/45500] Loss: 0.307662\n",
            "[VALIDATION] Stats:\n",
            "Accuracy: 87.7%\n",
            "Average loss: 0.413859\n",
            "\n",
            "Epoch 2:\n",
            "[TRAIN] [    0/45500] Loss: 0.299907\n",
            "[TRAIN] [ 3200/45500] Loss: 0.195421\n",
            "[TRAIN] [ 6400/45500] Loss: 0.182124\n",
            "[TRAIN] [ 9600/45500] Loss: 0.161268\n",
            "[TRAIN] [12800/45500] Loss: 0.186302\n",
            "[TRAIN] [16000/45500] Loss: 0.152354\n",
            "[TRAIN] [19200/45500] Loss: 0.437240\n",
            "[TRAIN] [22400/45500] Loss: 0.101931\n",
            "[TRAIN] [25600/45500] Loss: 0.262077\n",
            "[TRAIN] [28800/45500] Loss: 0.299652\n",
            "[TRAIN] [32000/45500] Loss: 0.222261\n",
            "[TRAIN] [35200/45500] Loss: 0.367513\n",
            "[TRAIN] [38400/45500] Loss: 0.275831\n",
            "[TRAIN] [41600/45500] Loss: 0.414285\n",
            "[TRAIN] [44800/45500] Loss: 0.174133\n",
            "[VALIDATION] Stats:\n",
            "Accuracy: 87.7%\n",
            "Average loss: 0.411496\n",
            "\n",
            "Epoch 3:\n",
            "[TRAIN] [    0/45500] Loss: 0.173048\n",
            "[TRAIN] [ 3200/45500] Loss: 0.330300\n",
            "[TRAIN] [ 6400/45500] Loss: 0.220867\n",
            "[TRAIN] [ 9600/45500] Loss: 0.239818\n",
            "[TRAIN] [12800/45500] Loss: 0.581308\n",
            "[TRAIN] [16000/45500] Loss: 0.320925\n",
            "[TRAIN] [19200/45500] Loss: 0.398932\n",
            "[TRAIN] [22400/45500] Loss: 0.354913\n",
            "[TRAIN] [25600/45500] Loss: 0.266475\n",
            "[TRAIN] [28800/45500] Loss: 0.164159\n",
            "[TRAIN] [32000/45500] Loss: 0.374344\n",
            "[TRAIN] [35200/45500] Loss: 0.205372\n",
            "[TRAIN] [38400/45500] Loss: 0.418295\n",
            "[TRAIN] [41600/45500] Loss: 0.185539\n",
            "[TRAIN] [44800/45500] Loss: 0.290069\n",
            "[VALIDATION] Stats:\n",
            "Accuracy: 87.8%\n",
            "Average loss: 0.405012\n",
            "\n",
            "Epoch 4:\n",
            "[TRAIN] [    0/45500] Loss: 0.857155\n",
            "[TRAIN] [ 3200/45500] Loss: 0.160077\n",
            "[TRAIN] [ 6400/45500] Loss: 0.618099\n",
            "[TRAIN] [ 9600/45500] Loss: 0.339755\n",
            "[TRAIN] [12800/45500] Loss: 0.236565\n",
            "[TRAIN] [16000/45500] Loss: 0.136678\n",
            "[TRAIN] [19200/45500] Loss: 0.136730\n",
            "[TRAIN] [22400/45500] Loss: 0.114203\n",
            "[TRAIN] [25600/45500] Loss: 0.765418\n",
            "[TRAIN] [28800/45500] Loss: 0.276640\n",
            "[TRAIN] [32000/45500] Loss: 0.444766\n",
            "[TRAIN] [35200/45500] Loss: 0.199470\n",
            "[TRAIN] [38400/45500] Loss: 0.562258\n",
            "[TRAIN] [41600/45500] Loss: 0.166536\n",
            "[TRAIN] [44800/45500] Loss: 0.142823\n",
            "[VALIDATION] Stats:\n",
            "Accuracy: 87.6%\n",
            "Average loss: 0.406482\n",
            "\n",
            "Epoch 5:\n",
            "[TRAIN] [    0/45500] Loss: 0.374759\n",
            "[TRAIN] [ 3200/45500] Loss: 0.311320\n",
            "[TRAIN] [ 6400/45500] Loss: 0.361452\n",
            "[TRAIN] [ 9600/45500] Loss: 0.294902\n",
            "[TRAIN] [12800/45500] Loss: 0.280679\n",
            "[TRAIN] [16000/45500] Loss: 0.147934\n",
            "[TRAIN] [19200/45500] Loss: 0.257316\n",
            "[TRAIN] [22400/45500] Loss: 0.513095\n",
            "[TRAIN] [25600/45500] Loss: 0.265470\n",
            "[TRAIN] [28800/45500] Loss: 0.256348\n",
            "[TRAIN] [32000/45500] Loss: 0.192606\n",
            "[TRAIN] [35200/45500] Loss: 0.486363\n",
            "[TRAIN] [38400/45500] Loss: 0.140000\n",
            "[TRAIN] [41600/45500] Loss: 0.115021\n",
            "[TRAIN] [44800/45500] Loss: 0.136175\n",
            "[VALIDATION] Stats:\n",
            "Accuracy: 87.8%\n",
            "Average loss: 0.405390\n",
            "\n",
            "Epoch 6:\n",
            "[TRAIN] [    0/45500] Loss: 0.375582\n",
            "[TRAIN] [ 3200/45500] Loss: 0.178477\n",
            "[TRAIN] [ 6400/45500] Loss: 0.583013\n",
            "[TRAIN] [ 9600/45500] Loss: 0.543853\n",
            "[TRAIN] [12800/45500] Loss: 0.285666\n",
            "[TRAIN] [16000/45500] Loss: 0.325978\n",
            "[TRAIN] [19200/45500] Loss: 0.198843\n",
            "[TRAIN] [22400/45500] Loss: 0.143763\n",
            "[TRAIN] [25600/45500] Loss: 0.143616\n",
            "[TRAIN] [28800/45500] Loss: 0.165448\n",
            "[TRAIN] [32000/45500] Loss: 0.262635\n",
            "[TRAIN] [35200/45500] Loss: 0.410057\n",
            "[TRAIN] [38400/45500] Loss: 0.209724\n",
            "[TRAIN] [41600/45500] Loss: 0.280649\n",
            "[TRAIN] [44800/45500] Loss: 0.447610\n",
            "[VALIDATION] Stats:\n",
            "Accuracy: 87.8%\n",
            "Average loss: 0.403260\n",
            "\n",
            "Epoch 7:\n",
            "[TRAIN] [    0/45500] Loss: 0.393207\n",
            "[TRAIN] [ 3200/45500] Loss: 0.187753\n",
            "[TRAIN] [ 6400/45500] Loss: 0.328641\n",
            "[TRAIN] [ 9600/45500] Loss: 0.106537\n",
            "[TRAIN] [12800/45500] Loss: 0.275828\n",
            "[TRAIN] [16000/45500] Loss: 0.413702\n",
            "[TRAIN] [19200/45500] Loss: 0.088056\n",
            "[TRAIN] [22400/45500] Loss: 0.195969\n",
            "[TRAIN] [25600/45500] Loss: 0.302754\n",
            "[TRAIN] [28800/45500] Loss: 0.182948\n",
            "[TRAIN] [32000/45500] Loss: 0.389813\n",
            "[TRAIN] [35200/45500] Loss: 0.123293\n",
            "[TRAIN] [38400/45500] Loss: 0.186824\n",
            "[TRAIN] [41600/45500] Loss: 0.200666\n",
            "[TRAIN] [44800/45500] Loss: 0.077580\n",
            "[VALIDATION] Stats:\n",
            "Accuracy: 88.2%\n",
            "Average loss: 0.394922\n",
            "\n",
            "Epoch 8:\n",
            "[TRAIN] [    0/45500] Loss: 0.192523\n",
            "[TRAIN] [ 3200/45500] Loss: 0.202095\n",
            "[TRAIN] [ 6400/45500] Loss: 0.358128\n",
            "[TRAIN] [ 9600/45500] Loss: 0.345162\n",
            "[TRAIN] [12800/45500] Loss: 0.410515\n",
            "[TRAIN] [16000/45500] Loss: 0.481075\n",
            "[TRAIN] [19200/45500] Loss: 0.243053\n",
            "[TRAIN] [22400/45500] Loss: 0.209937\n",
            "[TRAIN] [25600/45500] Loss: 0.256471\n",
            "[TRAIN] [28800/45500] Loss: 0.548993\n",
            "[TRAIN] [32000/45500] Loss: 0.453360\n",
            "[TRAIN] [35200/45500] Loss: 0.289885\n",
            "[TRAIN] [38400/45500] Loss: 0.300813\n",
            "[TRAIN] [41600/45500] Loss: 0.648585\n",
            "[TRAIN] [44800/45500] Loss: 0.232857\n",
            "[VALIDATION] Stats:\n",
            "Accuracy: 88.2%\n",
            "Average loss: 0.399101\n",
            "\n",
            "Epoch 9:\n",
            "[TRAIN] [    0/45500] Loss: 0.121527\n",
            "[TRAIN] [ 3200/45500] Loss: 0.145497\n",
            "[TRAIN] [ 6400/45500] Loss: 0.323610\n",
            "[TRAIN] [ 9600/45500] Loss: 0.389009\n",
            "[TRAIN] [12800/45500] Loss: 0.283742\n",
            "[TRAIN] [16000/45500] Loss: 0.228908\n",
            "[TRAIN] [19200/45500] Loss: 0.220002\n",
            "[TRAIN] [22400/45500] Loss: 0.413919\n",
            "[TRAIN] [25600/45500] Loss: 0.258385\n",
            "[TRAIN] [28800/45500] Loss: 0.332889\n",
            "[TRAIN] [32000/45500] Loss: 0.194426\n",
            "[TRAIN] [35200/45500] Loss: 0.254144\n",
            "[TRAIN] [38400/45500] Loss: 0.270228\n",
            "[TRAIN] [41600/45500] Loss: 0.549287\n",
            "[TRAIN] [44800/45500] Loss: 0.207481\n",
            "[VALIDATION] Stats:\n",
            "Accuracy: 88.1%\n",
            "Average loss: 0.397330\n",
            "\n",
            "Epoch 10:\n",
            "[TRAIN] [    0/45500] Loss: 0.220978\n",
            "[TRAIN] [ 3200/45500] Loss: 0.591018\n",
            "[TRAIN] [ 6400/45500] Loss: 0.234925\n",
            "[TRAIN] [ 9600/45500] Loss: 0.183152\n",
            "[TRAIN] [12800/45500] Loss: 0.088475\n",
            "[TRAIN] [16000/45500] Loss: 0.319161\n",
            "[TRAIN] [19200/45500] Loss: 0.220051\n",
            "[TRAIN] [22400/45500] Loss: 0.197553\n",
            "[TRAIN] [25600/45500] Loss: 0.200988\n",
            "[TRAIN] [28800/45500] Loss: 0.120881\n",
            "[TRAIN] [32000/45500] Loss: 0.139660\n",
            "[TRAIN] [35200/45500] Loss: 0.227625\n",
            "[TRAIN] [38400/45500] Loss: 0.121163\n",
            "[TRAIN] [41600/45500] Loss: 0.246150\n",
            "[TRAIN] [44800/45500] Loss: 0.133385\n",
            "[VALIDATION] Stats:\n",
            "Accuracy: 88.1%\n",
            "Average loss: 0.396895\n",
            "\n",
            "=============================\n"
          ]
        }
      ]
    },
    {
      "cell_type": "code",
      "metadata": {
        "colab": {
          "base_uri": "https://localhost:8080/"
        },
        "id": "o2fYFE8_SpOQ",
        "outputId": "23aabd02-543f-469e-ac99-cb32156bfc57"
      },
      "source": [
        "nn_2d.get_accuracy()"
      ],
      "execution_count": 28,
      "outputs": [
        {
          "output_type": "stream",
          "name": "stdout",
          "text": [
            "Accuracy of NN_2d--2021-12-01--13-47-00 on 13000 test images: 88.12307692307692%\n"
          ]
        }
      ]
    },
    {
      "cell_type": "markdown",
      "metadata": {
        "id": "4OxSYOQ_RWt7"
      },
      "source": [
        "*Модель с 3 полносвязными слоями:*"
      ]
    },
    {
      "cell_type": "code",
      "metadata": {
        "id": "lsvQlMecRYly"
      },
      "source": [
        "class NN_3d(nn.Module):\n",
        "    def __init__(self):\n",
        "        super(NN_3d, self).__init__()\n",
        "        self.flatten = nn.Flatten()\n",
        "        self.layers = nn.Sequential(\n",
        "            nn.Linear(28 * 28 * 3, 592),\n",
        "            nn.ReLU(),\n",
        "            nn.Linear(592, 234),\n",
        "            nn.ReLU(),\n",
        "            nn.Linear(234, 26),\n",
        "        )\n",
        "\n",
        "    def forward(self, x):\n",
        "        x = self.layers(self.flatten(x))\n",
        "        return x"
      ],
      "execution_count": null,
      "outputs": []
    },
    {
      "cell_type": "code",
      "metadata": {
        "id": "PoVagyJbRq34"
      },
      "source": [
        "nn_3d_model = NN_3d()\n",
        "nn_3d = Model(model=nn_3d_model, mode='NHWC', \n",
        "              datasets=[dataset_train, dataset_val, dataset_test],\n",
        "              batch_size=32, criterion=nn.CrossEntropyLoss(), \n",
        "              optimizer=optim.SGD(nn_3d_model.parameters(), lr=0.001, momentum=0.9))"
      ],
      "execution_count": null,
      "outputs": []
    },
    {
      "cell_type": "code",
      "metadata": {
        "colab": {
          "base_uri": "https://localhost:8080/"
        },
        "id": "0Wv3tWfPRw01",
        "outputId": "93a228a4-5068-4e82-ad2b-0e53df339fae"
      },
      "source": [
        "nn_3d.learn(10)"
      ],
      "execution_count": null,
      "outputs": [
        {
          "output_type": "stream",
          "name": "stdout",
          "text": [
            "Epoch 1:\n",
            "[TRAIN] [    0/45500] Loss: 0.303332\n",
            "[TRAIN] [ 3200/45500] Loss: 0.630325\n",
            "[TRAIN] [ 6400/45500] Loss: 0.565267\n",
            "[TRAIN] [ 9600/45500] Loss: 0.299317\n",
            "[TRAIN] [12800/45500] Loss: 0.302177\n",
            "[TRAIN] [16000/45500] Loss: 0.706550\n",
            "[TRAIN] [19200/45500] Loss: 0.504027\n",
            "[TRAIN] [22400/45500] Loss: 0.347147\n",
            "[TRAIN] [25600/45500] Loss: 0.379582\n",
            "[TRAIN] [28800/45500] Loss: 0.146537\n",
            "[TRAIN] [32000/45500] Loss: 0.482343\n",
            "[TRAIN] [35200/45500] Loss: 0.368772\n",
            "[TRAIN] [38400/45500] Loss: 0.364569\n",
            "[TRAIN] [41600/45500] Loss: 0.381982\n",
            "[TRAIN] [44800/45500] Loss: 0.454079\n",
            "[VALIDATION] Stats:\n",
            "Accuracy: 86.5%\n",
            "Average loss: 0.454427\n",
            "\n",
            "Epoch 2:\n",
            "[TRAIN] [    0/45500] Loss: 0.545647\n",
            "[TRAIN] [ 3200/45500] Loss: 0.506898\n",
            "[TRAIN] [ 6400/45500] Loss: 0.561669\n",
            "[TRAIN] [ 9600/45500] Loss: 0.458553\n",
            "[TRAIN] [12800/45500] Loss: 0.167205\n",
            "[TRAIN] [16000/45500] Loss: 0.443917\n",
            "[TRAIN] [19200/45500] Loss: 0.911562\n",
            "[TRAIN] [22400/45500] Loss: 0.450572\n",
            "[TRAIN] [25600/45500] Loss: 0.173598\n",
            "[TRAIN] [28800/45500] Loss: 0.326065\n",
            "[TRAIN] [32000/45500] Loss: 0.396477\n",
            "[TRAIN] [35200/45500] Loss: 0.707410\n",
            "[TRAIN] [38400/45500] Loss: 0.306211\n",
            "[TRAIN] [41600/45500] Loss: 0.401151\n",
            "[TRAIN] [44800/45500] Loss: 0.343307\n",
            "[VALIDATION] Stats:\n",
            "Accuracy: 87.0%\n",
            "Average loss: 0.430596\n",
            "\n",
            "Epoch 3:\n",
            "[TRAIN] [    0/45500] Loss: 0.131703\n",
            "[TRAIN] [ 3200/45500] Loss: 0.392601\n",
            "[TRAIN] [ 6400/45500] Loss: 0.311352\n",
            "[TRAIN] [ 9600/45500] Loss: 0.589975\n",
            "[TRAIN] [12800/45500] Loss: 0.354810\n",
            "[TRAIN] [16000/45500] Loss: 0.295302\n",
            "[TRAIN] [19200/45500] Loss: 0.693686\n",
            "[TRAIN] [22400/45500] Loss: 0.238832\n",
            "[TRAIN] [25600/45500] Loss: 0.153733\n",
            "[TRAIN] [28800/45500] Loss: 0.468975\n",
            "[TRAIN] [32000/45500] Loss: 0.362206\n",
            "[TRAIN] [35200/45500] Loss: 0.480690\n",
            "[TRAIN] [38400/45500] Loss: 0.141504\n",
            "[TRAIN] [41600/45500] Loss: 0.675684\n",
            "[TRAIN] [44800/45500] Loss: 0.871798\n",
            "[VALIDATION] Stats:\n",
            "Accuracy: 87.5%\n",
            "Average loss: 0.417715\n",
            "\n",
            "Epoch 4:\n",
            "[TRAIN] [    0/45500] Loss: 0.433156\n",
            "[TRAIN] [ 3200/45500] Loss: 0.343049\n",
            "[TRAIN] [ 6400/45500] Loss: 0.204184\n",
            "[TRAIN] [ 9600/45500] Loss: 0.167586\n",
            "[TRAIN] [12800/45500] Loss: 0.251993\n",
            "[TRAIN] [16000/45500] Loss: 0.251277\n",
            "[TRAIN] [19200/45500] Loss: 0.234517\n",
            "[TRAIN] [22400/45500] Loss: 0.258855\n",
            "[TRAIN] [25600/45500] Loss: 0.268802\n",
            "[TRAIN] [28800/45500] Loss: 0.486694\n",
            "[TRAIN] [32000/45500] Loss: 0.392378\n",
            "[TRAIN] [35200/45500] Loss: 0.283115\n",
            "[TRAIN] [38400/45500] Loss: 0.469672\n",
            "[TRAIN] [41600/45500] Loss: 0.491932\n",
            "[TRAIN] [44800/45500] Loss: 0.251202\n",
            "[VALIDATION] Stats:\n",
            "Accuracy: 87.5%\n",
            "Average loss: 0.410421\n",
            "\n",
            "Epoch 5:\n",
            "[TRAIN] [    0/45500] Loss: 0.174555\n",
            "[TRAIN] [ 3200/45500] Loss: 0.192737\n",
            "[TRAIN] [ 6400/45500] Loss: 0.298274\n",
            "[TRAIN] [ 9600/45500] Loss: 0.280795\n",
            "[TRAIN] [12800/45500] Loss: 0.266738\n",
            "[TRAIN] [16000/45500] Loss: 0.339684\n",
            "[TRAIN] [19200/45500] Loss: 0.317401\n",
            "[TRAIN] [22400/45500] Loss: 0.180642\n",
            "[TRAIN] [25600/45500] Loss: 0.102670\n",
            "[TRAIN] [28800/45500] Loss: 0.359989\n",
            "[TRAIN] [32000/45500] Loss: 0.317379\n",
            "[TRAIN] [35200/45500] Loss: 0.201876\n",
            "[TRAIN] [38400/45500] Loss: 0.154136\n",
            "[TRAIN] [41600/45500] Loss: 0.180724\n",
            "[TRAIN] [44800/45500] Loss: 0.351482\n",
            "[VALIDATION] Stats:\n",
            "Accuracy: 88.0%\n",
            "Average loss: 0.390299\n",
            "\n",
            "Epoch 6:\n",
            "[TRAIN] [    0/45500] Loss: 0.262429\n",
            "[TRAIN] [ 3200/45500] Loss: 0.308804\n",
            "[TRAIN] [ 6400/45500] Loss: 0.337006\n",
            "[TRAIN] [ 9600/45500] Loss: 0.520414\n",
            "[TRAIN] [12800/45500] Loss: 0.269321\n",
            "[TRAIN] [16000/45500] Loss: 0.329599\n",
            "[TRAIN] [19200/45500] Loss: 0.281942\n",
            "[TRAIN] [22400/45500] Loss: 0.162997\n",
            "[TRAIN] [25600/45500] Loss: 0.642364\n",
            "[TRAIN] [28800/45500] Loss: 0.311846\n",
            "[TRAIN] [32000/45500] Loss: 0.261688\n",
            "[TRAIN] [35200/45500] Loss: 0.309148\n",
            "[TRAIN] [38400/45500] Loss: 0.507074\n",
            "[TRAIN] [41600/45500] Loss: 0.433843\n",
            "[TRAIN] [44800/45500] Loss: 0.484253\n",
            "[VALIDATION] Stats:\n",
            "Accuracy: 88.2%\n",
            "Average loss: 0.382622\n",
            "\n",
            "Epoch 7:\n",
            "[TRAIN] [    0/45500] Loss: 0.149151\n",
            "[TRAIN] [ 3200/45500] Loss: 0.494248\n",
            "[TRAIN] [ 6400/45500] Loss: 0.243120\n",
            "[TRAIN] [ 9600/45500] Loss: 0.182144\n",
            "[TRAIN] [12800/45500] Loss: 0.305410\n",
            "[TRAIN] [16000/45500] Loss: 0.209310\n",
            "[TRAIN] [19200/45500] Loss: 0.717230\n",
            "[TRAIN] [22400/45500] Loss: 0.346682\n",
            "[TRAIN] [25600/45500] Loss: 0.586390\n",
            "[TRAIN] [28800/45500] Loss: 0.643824\n",
            "[TRAIN] [32000/45500] Loss: 0.215218\n",
            "[TRAIN] [35200/45500] Loss: 0.277737\n",
            "[TRAIN] [38400/45500] Loss: 0.237962\n",
            "[TRAIN] [41600/45500] Loss: 0.343588\n",
            "[TRAIN] [44800/45500] Loss: 0.351288\n",
            "[VALIDATION] Stats:\n",
            "Accuracy: 88.2%\n",
            "Average loss: 0.383325\n",
            "\n",
            "Epoch 8:\n",
            "[TRAIN] [    0/45500] Loss: 0.426085\n",
            "[TRAIN] [ 3200/45500] Loss: 0.308908\n",
            "[TRAIN] [ 6400/45500] Loss: 0.140059\n",
            "[TRAIN] [ 9600/45500] Loss: 0.254642\n",
            "[TRAIN] [12800/45500] Loss: 0.140705\n",
            "[TRAIN] [16000/45500] Loss: 0.320019\n",
            "[TRAIN] [19200/45500] Loss: 0.358374\n",
            "[TRAIN] [22400/45500] Loss: 0.656311\n",
            "[TRAIN] [25600/45500] Loss: 0.761685\n",
            "[TRAIN] [28800/45500] Loss: 0.306260\n",
            "[TRAIN] [32000/45500] Loss: 0.213336\n",
            "[TRAIN] [35200/45500] Loss: 0.585909\n",
            "[TRAIN] [38400/45500] Loss: 0.274962\n",
            "[TRAIN] [41600/45500] Loss: 0.223874\n",
            "[TRAIN] [44800/45500] Loss: 0.250725\n",
            "[VALIDATION] Stats:\n",
            "Accuracy: 88.7%\n",
            "Average loss: 0.371059\n",
            "\n",
            "Epoch 9:\n",
            "[TRAIN] [    0/45500] Loss: 0.208661\n",
            "[TRAIN] [ 3200/45500] Loss: 0.246293\n",
            "[TRAIN] [ 6400/45500] Loss: 0.105557\n",
            "[TRAIN] [ 9600/45500] Loss: 0.534033\n",
            "[TRAIN] [12800/45500] Loss: 0.383226\n",
            "[TRAIN] [16000/45500] Loss: 0.252458\n",
            "[TRAIN] [19200/45500] Loss: 0.314334\n",
            "[TRAIN] [22400/45500] Loss: 0.117874\n",
            "[TRAIN] [25600/45500] Loss: 0.238542\n",
            "[TRAIN] [28800/45500] Loss: 0.177975\n",
            "[TRAIN] [32000/45500] Loss: 0.217494\n",
            "[TRAIN] [35200/45500] Loss: 0.406268\n",
            "[TRAIN] [38400/45500] Loss: 0.200289\n",
            "[TRAIN] [41600/45500] Loss: 0.121768\n",
            "[TRAIN] [44800/45500] Loss: 0.342328\n",
            "[VALIDATION] Stats:\n",
            "Accuracy: 88.7%\n",
            "Average loss: 0.363105\n",
            "\n",
            "Epoch 10:\n",
            "[TRAIN] [    0/45500] Loss: 0.331803\n",
            "[TRAIN] [ 3200/45500] Loss: 0.213355\n",
            "[TRAIN] [ 6400/45500] Loss: 0.104028\n",
            "[TRAIN] [ 9600/45500] Loss: 0.237088\n",
            "[TRAIN] [12800/45500] Loss: 0.169502\n",
            "[TRAIN] [16000/45500] Loss: 0.215277\n",
            "[TRAIN] [19200/45500] Loss: 0.296746\n",
            "[TRAIN] [22400/45500] Loss: 0.113616\n",
            "[TRAIN] [25600/45500] Loss: 0.361054\n",
            "[TRAIN] [28800/45500] Loss: 0.221402\n",
            "[TRAIN] [32000/45500] Loss: 0.102495\n",
            "[TRAIN] [35200/45500] Loss: 0.276183\n",
            "[TRAIN] [38400/45500] Loss: 0.411397\n",
            "[TRAIN] [41600/45500] Loss: 0.237550\n",
            "[TRAIN] [44800/45500] Loss: 0.387017\n",
            "[VALIDATION] Stats:\n",
            "Accuracy: 88.7%\n",
            "Average loss: 0.361219\n",
            "\n",
            "=============================\n"
          ]
        }
      ]
    },
    {
      "cell_type": "code",
      "metadata": {
        "colab": {
          "base_uri": "https://localhost:8080/"
        },
        "id": "xCMC-WsZd8jx",
        "outputId": "bf77460c-19e2-4656-af78-e0fff549ac76"
      },
      "source": [
        "nn_3d.get_accuracy()"
      ],
      "execution_count": null,
      "outputs": [
        {
          "output_type": "stream",
          "name": "stdout",
          "text": [
            "Accuracy of NN_3d--2021-11-30--18-30-07 on 13000 test images: 88.27692307692307%\n"
          ]
        }
      ]
    },
    {
      "cell_type": "markdown",
      "metadata": {
        "id": "_iaIj_6meFDY"
      },
      "source": [
        "*Confusion matrix для наилучшей модели*"
      ]
    },
    {
      "cell_type": "code",
      "metadata": {
        "colab": {
          "base_uri": "https://localhost:8080/",
          "height": 935
        },
        "id": "p06-nqEMeK_M",
        "outputId": "04b69227-4fd0-49ec-d88b-861ea0d34144"
      },
      "source": [
        "cf_best = confusion_matrix(y_test, nn_3d.get_predictions())\n",
        "plt.figure(figsize=(16, 16))\n",
        "sns.heatmap(cf_best, annot=True)"
      ],
      "execution_count": null,
      "outputs": [
        {
          "output_type": "execute_result",
          "data": {
            "text/plain": [
              "<AxesSubplot:>"
            ]
          },
          "metadata": {},
          "execution_count": 74
        },
        {
          "output_type": "display_data",
          "data": {
            "text/plain": [
              "<Figure size 1152x1152 with 2 Axes>"
            ],
            "image/png": "[encoded data removed]"
          },
          "metadata": {
            "needs_background": "light"
          }
        }
      ]
    },
    {
      "cell_type": "markdown",
      "metadata": {
        "id": "0a5rW675enRs"
      },
      "source": [
        "*Лучшие и худшие буквы по точности детекции*"
      ]
    },
    {
      "cell_type": "code",
      "metadata": {
        "colab": {
          "base_uri": "https://localhost:8080/"
        },
        "id": "W3wuUpbJetmc",
        "outputId": "7f78efaf-4f08-464b-c4a3-3b7b702437ef"
      },
      "source": [
        "letters = [cf_best[i][i] for i in range(26)]\n",
        "print(f\"Best recognized: {chr(np.argmax(letters) + 97)} (accuracy: {max(letters) / (len(dataset_test) / 26)})\")    # unicode a = 97\n",
        "print(f\"Worst recognized: {chr(np.argmin(letters) + 97)} (accuracy: {min(letters) / (len(dataset_test) / 26)})\")"
      ],
      "execution_count": null,
      "outputs": [
        {
          "output_type": "stream",
          "name": "stdout",
          "text": [
            "Best recognized: o (accuracy: 0.96)\n",
            "Worst recognized: q (accuracy: 0.662)\n"
          ]
        }
      ]
    },
    {
      "cell_type": "markdown",
      "metadata": {
        "id": "gFIzdymMnl5c"
      },
      "source": [
        "*10 путающихся пар*"
      ]
    },
    {
      "cell_type": "code",
      "metadata": {
        "colab": {
          "base_uri": "https://localhost:8080/"
        },
        "id": "V3VaLnulnk2_",
        "outputId": "f46c890c-505e-4aae-ce58-a54e2ca29d04"
      },
      "source": [
        "confusing_letters = []\n",
        "cf_copy = cf_best.copy()             # copy initial for further operations\n",
        "np.fill_diagonal(cf_copy, 0)    # remove data for same letters\n",
        "\n",
        "for i in range(26):\n",
        "    for j in range(26):\n",
        "        if len(confusing_letters) < 10:\n",
        "            confusing_letters.append((cf_copy[i][j], chr(i+97), chr(j+97)))\n",
        "        elif min(confusing_letters)[0] < cf_copy[i][j]:\n",
        "            confusing_letters = sorted(confusing_letters)\n",
        "            confusing_letters[0] = (cf_copy[i][j], chr(i+97), chr(j+97))\n",
        "    confusing_letters = sorted(confusing_letters, reverse=True)\n",
        "\n",
        "for id, (num, correct, wrong) in enumerate(confusing_letters):\n",
        "    print(f\"{id + 1}. Letter [{correct}] was recognized as [{wrong}] {num} times\")"
      ],
      "execution_count": null,
      "outputs": [
        {
          "output_type": "stream",
          "name": "stdout",
          "text": [
            "1. Letter [l] was recognized as [i] 131 times\n",
            "2. Letter [q] was recognized as [g] 123 times\n",
            "3. Letter [i] was recognized as [l] 88 times\n",
            "4. Letter [g] was recognized as [q] 38 times\n",
            "5. Letter [s] was recognized as [g] 24 times\n",
            "6. Letter [v] was recognized as [u] 22 times\n",
            "7. Letter [c] was recognized as [e] 21 times\n",
            "8. Letter [y] was recognized as [v] 20 times\n",
            "9. Letter [f] was recognized as [p] 20 times\n",
            "10. Letter [q] was recognized as [a] 18 times\n"
          ]
        }
      ]
    },
    {
      "cell_type": "markdown",
      "metadata": {
        "id": "w2_8xDAxoF6w"
      },
      "source": [
        "*Точность распознавания первой буквы фамилии: S*"
      ]
    },
    {
      "cell_type": "code",
      "metadata": {
        "colab": {
          "base_uri": "https://localhost:8080/"
        },
        "id": "xOOBcMmCoePt",
        "outputId": "8dee1fdd-8cb8-43e6-d3f8-a117bd405027"
      },
      "source": [
        "s_index = 18\n",
        "s_confusion = sorted([(conf, id) for id, conf in enumerate(cf_copy[s_index])], \n",
        "                     reverse=True)\n",
        "\n",
        "print(f\"Letter [s] accuracy: {cf_best[s_index][s_index] / (len(dataset_test) / 26)}\")\n",
        "for num, i in s_confusion[:5]:\n",
        "    print(f\"Letter [s] was recognized as [{chr(i + ord('a'))}] {num} times\")"
      ],
      "execution_count": null,
      "outputs": [
        {
          "output_type": "stream",
          "name": "stdout",
          "text": [
            "Letter [s] accuracy: 0.926\n",
            "Letter [s] was recognized as [g] 24 times\n",
            "Letter [s] was recognized as [j] 3 times\n",
            "Letter [s] was recognized as [e] 2 times\n",
            "Letter [s] was recognized as [x] 1 times\n",
            "Letter [s] was recognized as [q] 1 times\n"
          ]
        }
      ]
    },
    {
      "cell_type": "markdown",
      "metadata": {
        "id": "vj0NUdWbpBYc"
      },
      "source": [
        "**Задание 2**"
      ]
    },
    {
      "cell_type": "code",
      "metadata": {
        "id": "3VOBeui6pEs1"
      },
      "source": [
        "def test_conv_pool(c, train, convs=None, pool=None):\n",
        "    X, y = next(iter(train))    # we need only one batch\n",
        "    X = X.permute(0, 3, 1, 2)\n",
        "    print(X.shape)\n",
        "    for conv in convs:\n",
        "        X = conv(X)\n",
        "        print(X.shape)\n",
        "        X = pool(X)\n",
        "        print(X.shape)\n",
        "        print(\"-------------\")"
      ],
      "execution_count": 29,
      "outputs": []
    },
    {
      "cell_type": "code",
      "metadata": {
        "id": "qEIyvs7DpQGv"
      },
      "source": [
        "class ConvNN_1(nn.Module):\n",
        "    def __init__(self):\n",
        "        super(ConvNN_1, self).__init__()\n",
        "        self.flatten = nn.Flatten()     # transform to vector\n",
        "        self.conv_layers = nn.Sequential(\n",
        "            nn.Conv2d(3, 6, 5),\n",
        "            nn.ReLU(),\n",
        "            nn.MaxPool2d(2, 2),\n",
        "        )\n",
        "        self.linear_layers = nn.Sequential(\n",
        "            nn.Linear(864, 128),\n",
        "            nn.ReLU(),\n",
        "            nn.Linear(128, 26)\n",
        "        )\n",
        "\n",
        "    def forward(self, x):\n",
        "        x = self.flatten(self.conv_layers(x))\n",
        "        return self.linear_layers(x)"
      ],
      "execution_count": null,
      "outputs": []
    },
    {
      "cell_type": "code",
      "metadata": {
        "id": "l-qZhPuupzYT"
      },
      "source": [
        "conv_nn_1_model = ConvNN_1()\n",
        "conv_nn_1 = Model(model=conv_nn_1_model, mode='NCHW', \n",
        "              datasets=[dataset_train, dataset_val, dataset_test],\n",
        "              batch_size=32, criterion=nn.CrossEntropyLoss(), \n",
        "              optimizer=optim.SGD(conv_nn_1_model.parameters(), \n",
        "                                  lr=0.001, momentum=0.9))"
      ],
      "execution_count": null,
      "outputs": []
    },
    {
      "cell_type": "code",
      "metadata": {
        "colab": {
          "base_uri": "https://localhost:8080/"
        },
        "id": "NuxANn-hplTq",
        "outputId": "8cb55eb4-fe08-40fa-a1ab-7e1865ed592a"
      },
      "source": [
        "test_conv_pool(c=conv_nn_1.model, train=conv_nn_1.train_dataloader, convs=[nn.Conv2d(3, 6, 5)], pool=nn.MaxPool2d(2, 2))"
      ],
      "execution_count": null,
      "outputs": [
        {
          "output_type": "stream",
          "name": "stdout",
          "text": [
            "torch.Size([32, 3, 28, 28])\n",
            "torch.Size([32, 6, 24, 24])\n",
            "torch.Size([32, 6, 12, 12])\n",
            "-------------\n"
          ]
        }
      ]
    },
    {
      "cell_type": "code",
      "metadata": {
        "colab": {
          "base_uri": "https://localhost:8080/"
        },
        "id": "heQQ3yQvrsXx",
        "outputId": "d775abb7-339e-440d-93ff-51c6350c9c03"
      },
      "source": [
        "conv_nn_1.learn(10)"
      ],
      "execution_count": null,
      "outputs": [
        {
          "output_type": "stream",
          "name": "stdout",
          "text": [
            "Epoch 1:\n",
            "[TRAIN] [    0/45500] Loss: 0.132850\n",
            "[TRAIN] [ 3200/45500] Loss: 0.284760\n",
            "[TRAIN] [ 6400/45500] Loss: 0.245676\n",
            "[TRAIN] [ 9600/45500] Loss: 0.275561\n",
            "[TRAIN] [12800/45500] Loss: 0.376189\n",
            "[TRAIN] [16000/45500] Loss: 0.367443\n",
            "[TRAIN] [19200/45500] Loss: 0.262529\n",
            "[TRAIN] [22400/45500] Loss: 0.584393\n",
            "[TRAIN] [25600/45500] Loss: 0.343989\n",
            "[TRAIN] [28800/45500] Loss: 0.195929\n",
            "[TRAIN] [32000/45500] Loss: 0.221621\n",
            "[TRAIN] [35200/45500] Loss: 0.396057\n",
            "[TRAIN] [38400/45500] Loss: 0.357875\n",
            "[TRAIN] [41600/45500] Loss: 0.316390\n",
            "[TRAIN] [44800/45500] Loss: 0.573092\n",
            "[VALIDATION] Stats:\n",
            "Accuracy: 88.5%\n",
            "Average loss: 0.368495\n",
            "\n",
            "Epoch 2:\n",
            "[TRAIN] [    0/45500] Loss: 0.122057\n",
            "[TRAIN] [ 3200/45500] Loss: 0.272015\n",
            "[TRAIN] [ 6400/45500] Loss: 0.311238\n",
            "[TRAIN] [ 9600/45500] Loss: 0.213178\n",
            "[TRAIN] [12800/45500] Loss: 0.114041\n",
            "[TRAIN] [16000/45500] Loss: 0.081329\n",
            "[TRAIN] [19200/45500] Loss: 0.213338\n",
            "[TRAIN] [22400/45500] Loss: 0.355670\n",
            "[TRAIN] [25600/45500] Loss: 0.240296\n",
            "[TRAIN] [28800/45500] Loss: 0.297085\n",
            "[TRAIN] [32000/45500] Loss: 0.242107\n",
            "[TRAIN] [35200/45500] Loss: 0.236714\n",
            "[TRAIN] [38400/45500] Loss: 0.208727\n",
            "[TRAIN] [41600/45500] Loss: 0.138841\n",
            "[TRAIN] [44800/45500] Loss: 0.308973\n",
            "[VALIDATION] Stats:\n",
            "Accuracy: 88.1%\n",
            "Average loss: 0.368231\n",
            "\n",
            "Epoch 3:\n",
            "[TRAIN] [    0/45500] Loss: 0.396542\n",
            "[TRAIN] [ 3200/45500] Loss: 0.102834\n",
            "[TRAIN] [ 6400/45500] Loss: 0.350137\n",
            "[TRAIN] [ 9600/45500] Loss: 0.123515\n",
            "[TRAIN] [12800/45500] Loss: 0.228264\n",
            "[TRAIN] [16000/45500] Loss: 0.174143\n",
            "[TRAIN] [19200/45500] Loss: 0.220588\n",
            "[TRAIN] [22400/45500] Loss: 0.295417\n",
            "[TRAIN] [25600/45500] Loss: 0.158009\n",
            "[TRAIN] [28800/45500] Loss: 0.068876\n",
            "[TRAIN] [32000/45500] Loss: 0.218473\n",
            "[TRAIN] [35200/45500] Loss: 0.305394\n",
            "[TRAIN] [38400/45500] Loss: 0.118717\n",
            "[TRAIN] [41600/45500] Loss: 0.399069\n",
            "[TRAIN] [44800/45500] Loss: 0.781236\n",
            "[VALIDATION] Stats:\n",
            "Accuracy: 89.3%\n",
            "Average loss: 0.345901\n",
            "\n",
            "Epoch 4:\n",
            "[TRAIN] [    0/45500] Loss: 0.133935\n",
            "[TRAIN] [ 3200/45500] Loss: 0.286172\n",
            "[TRAIN] [ 6400/45500] Loss: 0.249753\n",
            "[TRAIN] [ 9600/45500] Loss: 0.172382\n",
            "[TRAIN] [12800/45500] Loss: 0.256603\n",
            "[TRAIN] [16000/45500] Loss: 0.168080\n",
            "[TRAIN] [19200/45500] Loss: 0.409226\n",
            "[TRAIN] [22400/45500] Loss: 0.480712\n",
            "[TRAIN] [25600/45500] Loss: 0.580010\n",
            "[TRAIN] [28800/45500] Loss: 0.127151\n",
            "[TRAIN] [32000/45500] Loss: 0.367812\n",
            "[TRAIN] [35200/45500] Loss: 0.273181\n",
            "[TRAIN] [38400/45500] Loss: 0.301826\n",
            "[TRAIN] [41600/45500] Loss: 0.334304\n",
            "[TRAIN] [44800/45500] Loss: 0.196210\n",
            "[VALIDATION] Stats:\n",
            "Accuracy: 89.0%\n",
            "Average loss: 0.345146\n",
            "\n",
            "Epoch 5:\n",
            "[TRAIN] [    0/45500] Loss: 0.391154\n",
            "[TRAIN] [ 3200/45500] Loss: 0.449902\n",
            "[TRAIN] [ 6400/45500] Loss: 0.261320\n",
            "[TRAIN] [ 9600/45500] Loss: 0.207719\n",
            "[TRAIN] [12800/45500] Loss: 0.090421\n",
            "[TRAIN] [16000/45500] Loss: 0.240053\n",
            "[TRAIN] [19200/45500] Loss: 0.171294\n",
            "[TRAIN] [22400/45500] Loss: 0.330613\n",
            "[TRAIN] [25600/45500] Loss: 0.587916\n",
            "[TRAIN] [28800/45500] Loss: 0.175821\n",
            "[TRAIN] [32000/45500] Loss: 0.105612\n",
            "[TRAIN] [35200/45500] Loss: 0.400160\n",
            "[TRAIN] [38400/45500] Loss: 0.119692\n",
            "[TRAIN] [41600/45500] Loss: 0.151580\n",
            "[TRAIN] [44800/45500] Loss: 0.393441\n",
            "[VALIDATION] Stats:\n",
            "Accuracy: 89.3%\n",
            "Average loss: 0.344677\n",
            "\n",
            "Epoch 6:\n",
            "[TRAIN] [    0/45500] Loss: 0.172259\n",
            "[TRAIN] [ 3200/45500] Loss: 0.151221\n",
            "[TRAIN] [ 6400/45500] Loss: 0.195868\n",
            "[TRAIN] [ 9600/45500] Loss: 0.068542\n",
            "[TRAIN] [12800/45500] Loss: 0.389997\n",
            "[TRAIN] [16000/45500] Loss: 0.373696\n",
            "[TRAIN] [19200/45500] Loss: 0.140183\n",
            "[TRAIN] [22400/45500] Loss: 0.137074\n",
            "[TRAIN] [25600/45500] Loss: 0.299810\n",
            "[TRAIN] [28800/45500] Loss: 0.250394\n",
            "[TRAIN] [32000/45500] Loss: 0.262067\n",
            "[TRAIN] [35200/45500] Loss: 0.264270\n",
            "[TRAIN] [38400/45500] Loss: 0.217849\n",
            "[TRAIN] [41600/45500] Loss: 0.125591\n",
            "[TRAIN] [44800/45500] Loss: 0.210141\n",
            "[VALIDATION] Stats:\n",
            "Accuracy: 89.3%\n",
            "Average loss: 0.340408\n",
            "\n",
            "Epoch 7:\n",
            "[TRAIN] [    0/45500] Loss: 0.155449\n",
            "[TRAIN] [ 3200/45500] Loss: 0.277743\n",
            "[TRAIN] [ 6400/45500] Loss: 0.330387\n",
            "[TRAIN] [ 9600/45500] Loss: 0.324827\n",
            "[TRAIN] [12800/45500] Loss: 0.517327\n",
            "[TRAIN] [16000/45500] Loss: 0.288265\n",
            "[TRAIN] [19200/45500] Loss: 0.677993\n",
            "[TRAIN] [22400/45500] Loss: 0.216806\n",
            "[TRAIN] [25600/45500] Loss: 0.262552\n",
            "[TRAIN] [28800/45500] Loss: 0.183592\n",
            "[TRAIN] [32000/45500] Loss: 0.253052\n",
            "[TRAIN] [35200/45500] Loss: 0.178923\n",
            "[TRAIN] [38400/45500] Loss: 0.224716\n",
            "[TRAIN] [41600/45500] Loss: 0.110154\n",
            "[TRAIN] [44800/45500] Loss: 0.117577\n",
            "[VALIDATION] Stats:\n",
            "Accuracy: 89.5%\n",
            "Average loss: 0.330945\n",
            "\n",
            "Epoch 8:\n",
            "[TRAIN] [    0/45500] Loss: 0.115475\n",
            "[TRAIN] [ 3200/45500] Loss: 0.174373\n",
            "[TRAIN] [ 6400/45500] Loss: 0.076517\n",
            "[TRAIN] [ 9600/45500] Loss: 0.240015\n",
            "[TRAIN] [12800/45500] Loss: 0.252418\n",
            "[TRAIN] [16000/45500] Loss: 0.246339\n",
            "[TRAIN] [19200/45500] Loss: 0.112806\n",
            "[TRAIN] [22400/45500] Loss: 0.224929\n",
            "[TRAIN] [25600/45500] Loss: 0.279709\n",
            "[TRAIN] [28800/45500] Loss: 0.204560\n",
            "[TRAIN] [32000/45500] Loss: 0.143462\n",
            "[TRAIN] [35200/45500] Loss: 0.122536\n",
            "[TRAIN] [38400/45500] Loss: 0.292349\n",
            "[TRAIN] [41600/45500] Loss: 0.213613\n",
            "[TRAIN] [44800/45500] Loss: 0.335944\n",
            "[VALIDATION] Stats:\n",
            "Accuracy: 89.8%\n",
            "Average loss: 0.322530\n",
            "\n",
            "Epoch 9:\n",
            "[TRAIN] [    0/45500] Loss: 0.207414\n",
            "[TRAIN] [ 3200/45500] Loss: 0.202519\n",
            "[TRAIN] [ 6400/45500] Loss: 0.203284\n",
            "[TRAIN] [ 9600/45500] Loss: 0.412566\n",
            "[TRAIN] [12800/45500] Loss: 0.172809\n",
            "[TRAIN] [16000/45500] Loss: 0.219458\n",
            "[TRAIN] [19200/45500] Loss: 0.099164\n",
            "[TRAIN] [22400/45500] Loss: 0.092224\n",
            "[TRAIN] [25600/45500] Loss: 0.093246\n",
            "[TRAIN] [28800/45500] Loss: 0.513187\n",
            "[TRAIN] [32000/45500] Loss: 0.295115\n",
            "[TRAIN] [35200/45500] Loss: 0.104219\n",
            "[TRAIN] [38400/45500] Loss: 0.220853\n",
            "[TRAIN] [41600/45500] Loss: 0.129774\n",
            "[TRAIN] [44800/45500] Loss: 0.167558\n",
            "[VALIDATION] Stats:\n",
            "Accuracy: 89.9%\n",
            "Average loss: 0.320331\n",
            "\n",
            "Epoch 10:\n",
            "[TRAIN] [    0/45500] Loss: 0.125117\n",
            "[TRAIN] [ 3200/45500] Loss: 0.131002\n",
            "[TRAIN] [ 6400/45500] Loss: 0.131165\n",
            "[TRAIN] [ 9600/45500] Loss: 0.064967\n",
            "[TRAIN] [12800/45500] Loss: 0.244851\n",
            "[TRAIN] [16000/45500] Loss: 0.230125\n",
            "[TRAIN] [19200/45500] Loss: 0.271919\n",
            "[TRAIN] [22400/45500] Loss: 0.150684\n",
            "[TRAIN] [25600/45500] Loss: 0.175896\n",
            "[TRAIN] [28800/45500] Loss: 0.195492\n",
            "[TRAIN] [32000/45500] Loss: 0.149770\n",
            "[TRAIN] [35200/45500] Loss: 0.410429\n",
            "[TRAIN] [38400/45500] Loss: 0.076070\n",
            "[TRAIN] [41600/45500] Loss: 0.210593\n",
            "[TRAIN] [44800/45500] Loss: 0.322492\n",
            "[VALIDATION] Stats:\n",
            "Accuracy: 90.4%\n",
            "Average loss: 0.307855\n",
            "\n",
            "=============================\n"
          ]
        }
      ]
    },
    {
      "cell_type": "code",
      "metadata": {
        "id": "hwLumGZfsbkq"
      },
      "source": [
        "class ConvNN_2(nn.Module):\n",
        "    def __init__(self):\n",
        "        super(ConvNN_2, self).__init__()\n",
        "        self.flatten = nn.Flatten()     # transform to vector\n",
        "        self.conv_layers = nn.Sequential(\n",
        "            nn.Conv2d(3, 6, 5),\n",
        "            nn.ReLU(),\n",
        "            nn.MaxPool2d(2, 2),\n",
        "            nn.Conv2d(6, 16, 5),\n",
        "            nn.ReLU(),\n",
        "            nn.MaxPool2d(2, 2),\n",
        "        )\n",
        "        self.linear_layers = nn.Sequential(\n",
        "            nn.Linear(256, 64),\n",
        "            nn.ReLU(),\n",
        "            nn.Linear(64, 26),\n",
        "            nn.ReLU()\n",
        "        )\n",
        "\n",
        "    def forward(self, x):\n",
        "        x = self.flatten(self.conv_layers(x))\n",
        "        return self.linear_layers(x)"
      ],
      "execution_count": null,
      "outputs": []
    },
    {
      "cell_type": "code",
      "metadata": {
        "id": "2N3rKttLsmm0"
      },
      "source": [
        "conv_nn_2_model = ConvNN_2()\n",
        "conv_nn_2 = Model(model=conv_nn_2_model, mode='NCHW', \n",
        "              datasets=[dataset_train, dataset_val, dataset_test],\n",
        "              batch_size=32, criterion=nn.CrossEntropyLoss(), \n",
        "              optimizer=optim.SGD(conv_nn_2_model.parameters(), \n",
        "                                  lr=0.001, momentum=0.9))"
      ],
      "execution_count": null,
      "outputs": []
    },
    {
      "cell_type": "code",
      "metadata": {
        "colab": {
          "base_uri": "https://localhost:8080/"
        },
        "id": "6fwCF41OswD_",
        "outputId": "757371cd-3b24-460b-bc88-ace84bb77267"
      },
      "source": [
        "test_conv_pool(c=conv_nn_2.model, train=conv_nn_2.train_dataloader, convs=[nn.Conv2d(3, 6, 5), nn.Conv2d(6, 16, 5)], pool=nn.MaxPool2d(2, 2))"
      ],
      "execution_count": null,
      "outputs": [
        {
          "output_type": "stream",
          "name": "stdout",
          "text": [
            "torch.Size([32, 3, 28, 28])\n",
            "torch.Size([32, 6, 24, 24])\n",
            "torch.Size([32, 6, 12, 12])\n",
            "-------------\n",
            "torch.Size([32, 16, 8, 8])\n",
            "torch.Size([32, 16, 4, 4])\n",
            "-------------\n"
          ]
        }
      ]
    },
    {
      "cell_type": "code",
      "metadata": {
        "colab": {
          "base_uri": "https://localhost:8080/"
        },
        "id": "QKn6nIeGtE7G",
        "outputId": "4a166229-e1e2-4c89-b3e0-e99ab33960fa"
      },
      "source": [
        "conv_nn_2.learn(10)"
      ],
      "execution_count": null,
      "outputs": [
        {
          "output_type": "stream",
          "name": "stdout",
          "text": [
            "Epoch 1:\n",
            "[TRAIN] [    0/45500] Loss: 0.477710\n",
            "[TRAIN] [ 3200/45500] Loss: 0.508106\n",
            "[TRAIN] [ 6400/45500] Loss: 0.093222\n",
            "[TRAIN] [ 9600/45500] Loss: 0.473658\n",
            "[TRAIN] [12800/45500] Loss: 0.279387\n",
            "[TRAIN] [16000/45500] Loss: 0.183284\n",
            "[TRAIN] [19200/45500] Loss: 0.537440\n",
            "[TRAIN] [22400/45500] Loss: 0.437723\n",
            "[TRAIN] [25600/45500] Loss: 0.820323\n",
            "[TRAIN] [28800/45500] Loss: 0.506973\n",
            "[TRAIN] [32000/45500] Loss: 0.524420\n",
            "[TRAIN] [35200/45500] Loss: 0.494051\n",
            "[TRAIN] [38400/45500] Loss: 0.568672\n",
            "[TRAIN] [41600/45500] Loss: 0.330914\n",
            "[TRAIN] [44800/45500] Loss: 0.550424\n",
            "[VALIDATION] Stats:\n",
            "Accuracy: 85.9%\n",
            "Average loss: 0.446525\n",
            "\n",
            "Epoch 2:\n",
            "[TRAIN] [    0/45500] Loss: 0.090504\n",
            "[TRAIN] [ 3200/45500] Loss: 0.240767\n",
            "[TRAIN] [ 6400/45500] Loss: 0.298699\n",
            "[TRAIN] [ 9600/45500] Loss: 0.511385\n",
            "[TRAIN] [12800/45500] Loss: 0.074744\n",
            "[TRAIN] [16000/45500] Loss: 0.578540\n",
            "[TRAIN] [19200/45500] Loss: 0.474147\n",
            "[TRAIN] [22400/45500] Loss: 0.106203\n",
            "[TRAIN] [25600/45500] Loss: 0.277656\n",
            "[TRAIN] [28800/45500] Loss: 0.123890\n",
            "[TRAIN] [32000/45500] Loss: 0.488656\n",
            "[TRAIN] [35200/45500] Loss: 0.345722\n",
            "[TRAIN] [38400/45500] Loss: 0.225289\n",
            "[TRAIN] [41600/45500] Loss: 0.417298\n",
            "[TRAIN] [44800/45500] Loss: 0.347858\n",
            "[VALIDATION] Stats:\n",
            "Accuracy: 85.7%\n",
            "Average loss: 0.449802\n",
            "\n",
            "Epoch 3:\n",
            "[TRAIN] [    0/45500] Loss: 0.584582\n",
            "[TRAIN] [ 3200/45500] Loss: 0.515797\n",
            "[TRAIN] [ 6400/45500] Loss: 0.324498\n",
            "[TRAIN] [ 9600/45500] Loss: 0.419893\n",
            "[TRAIN] [12800/45500] Loss: 0.412212\n",
            "[TRAIN] [16000/45500] Loss: 0.515333\n",
            "[TRAIN] [19200/45500] Loss: 0.237458\n",
            "[TRAIN] [22400/45500] Loss: 0.410978\n",
            "[TRAIN] [25600/45500] Loss: 0.475828\n",
            "[TRAIN] [28800/45500] Loss: 0.361403\n",
            "[TRAIN] [32000/45500] Loss: 0.449335\n",
            "[TRAIN] [35200/45500] Loss: 0.516226\n",
            "[TRAIN] [38400/45500] Loss: 0.288028\n",
            "[TRAIN] [41600/45500] Loss: 0.282712\n",
            "[TRAIN] [44800/45500] Loss: 0.310078\n",
            "[VALIDATION] Stats:\n",
            "Accuracy: 89.7%\n",
            "Average loss: 0.324573\n",
            "\n",
            "Epoch 4:\n",
            "[TRAIN] [    0/45500] Loss: 0.103672\n",
            "[TRAIN] [ 3200/45500] Loss: 0.352525\n",
            "[TRAIN] [ 6400/45500] Loss: 0.100638\n",
            "[TRAIN] [ 9600/45500] Loss: 0.202164\n",
            "[TRAIN] [12800/45500] Loss: 0.344061\n",
            "[TRAIN] [16000/45500] Loss: 0.281223\n",
            "[TRAIN] [19200/45500] Loss: 0.781475\n",
            "[TRAIN] [22400/45500] Loss: 0.401034\n",
            "[TRAIN] [25600/45500] Loss: 0.661891\n",
            "[TRAIN] [28800/45500] Loss: 0.040659\n",
            "[TRAIN] [32000/45500] Loss: 0.344975\n",
            "[TRAIN] [35200/45500] Loss: 0.042387\n",
            "[TRAIN] [38400/45500] Loss: 0.457530\n",
            "[TRAIN] [41600/45500] Loss: 0.244094\n",
            "[TRAIN] [44800/45500] Loss: 0.312838\n",
            "[VALIDATION] Stats:\n",
            "Accuracy: 90.4%\n",
            "Average loss: 0.301269\n",
            "\n",
            "Epoch 5:\n",
            "[TRAIN] [    0/45500] Loss: 0.162199\n",
            "[TRAIN] [ 3200/45500] Loss: 0.339488\n",
            "[TRAIN] [ 6400/45500] Loss: 0.037457\n",
            "[TRAIN] [ 9600/45500] Loss: 0.170911\n",
            "[TRAIN] [12800/45500] Loss: 0.140474\n",
            "[TRAIN] [16000/45500] Loss: 0.212087\n",
            "[TRAIN] [19200/45500] Loss: 0.058453\n",
            "[TRAIN] [22400/45500] Loss: 0.327617\n",
            "[TRAIN] [25600/45500] Loss: 0.177509\n",
            "[TRAIN] [28800/45500] Loss: 0.188185\n",
            "[TRAIN] [32000/45500] Loss: 0.240963\n",
            "[TRAIN] [35200/45500] Loss: 0.322449\n",
            "[TRAIN] [38400/45500] Loss: 0.340219\n",
            "[TRAIN] [41600/45500] Loss: 0.307189\n",
            "[TRAIN] [44800/45500] Loss: 0.686608\n",
            "[VALIDATION] Stats:\n",
            "Accuracy: 90.1%\n",
            "Average loss: 0.303691\n",
            "\n",
            "Epoch 6:\n",
            "[TRAIN] [    0/45500] Loss: 0.085096\n",
            "[TRAIN] [ 3200/45500] Loss: 0.364212\n",
            "[TRAIN] [ 6400/45500] Loss: 0.247719\n",
            "[TRAIN] [ 9600/45500] Loss: 0.169043\n",
            "[TRAIN] [12800/45500] Loss: 0.147279\n",
            "[TRAIN] [16000/45500] Loss: 0.359376\n",
            "[TRAIN] [19200/45500] Loss: 0.112735\n",
            "[TRAIN] [22400/45500] Loss: 0.319782\n",
            "[TRAIN] [25600/45500] Loss: 0.242143\n",
            "[TRAIN] [28800/45500] Loss: 0.117508\n",
            "[TRAIN] [32000/45500] Loss: 0.037340\n",
            "[TRAIN] [35200/45500] Loss: 0.205618\n",
            "[TRAIN] [38400/45500] Loss: 0.148112\n",
            "[TRAIN] [41600/45500] Loss: 0.175407\n",
            "[TRAIN] [44800/45500] Loss: 0.286533\n",
            "[VALIDATION] Stats:\n",
            "Accuracy: 90.7%\n",
            "Average loss: 0.294190\n",
            "\n",
            "Epoch 7:\n",
            "[TRAIN] [    0/45500] Loss: 0.068289\n",
            "[TRAIN] [ 3200/45500] Loss: 0.169092\n",
            "[TRAIN] [ 6400/45500] Loss: 0.112198\n",
            "[TRAIN] [ 9600/45500] Loss: 0.131806\n",
            "[TRAIN] [12800/45500] Loss: 0.225263\n",
            "[TRAIN] [16000/45500] Loss: 0.166675\n",
            "[TRAIN] [19200/45500] Loss: 0.156434\n",
            "[TRAIN] [22400/45500] Loss: 0.112841\n",
            "[TRAIN] [25600/45500] Loss: 0.170282\n",
            "[TRAIN] [28800/45500] Loss: 0.347631\n",
            "[TRAIN] [32000/45500] Loss: 0.248540\n",
            "[TRAIN] [35200/45500] Loss: 0.271516\n",
            "[TRAIN] [38400/45500] Loss: 0.500710\n",
            "[TRAIN] [41600/45500] Loss: 0.241758\n",
            "[TRAIN] [44800/45500] Loss: 0.111813\n",
            "[VALIDATION] Stats:\n",
            "Accuracy: 90.7%\n",
            "Average loss: 0.297465\n",
            "\n",
            "Epoch 8:\n",
            "[TRAIN] [    0/45500] Loss: 0.088866\n",
            "[TRAIN] [ 3200/45500] Loss: 0.123664\n",
            "[TRAIN] [ 6400/45500] Loss: 0.402972\n",
            "[TRAIN] [ 9600/45500] Loss: 0.150490\n",
            "[TRAIN] [12800/45500] Loss: 0.159438\n",
            "[TRAIN] [16000/45500] Loss: 0.131382\n",
            "[TRAIN] [19200/45500] Loss: 0.263569\n",
            "[TRAIN] [22400/45500] Loss: 0.137237\n",
            "[TRAIN] [25600/45500] Loss: 0.094298\n",
            "[TRAIN] [28800/45500] Loss: 0.204474\n",
            "[TRAIN] [32000/45500] Loss: 0.075168\n",
            "[TRAIN] [35200/45500] Loss: 0.199323\n",
            "[TRAIN] [38400/45500] Loss: 0.245418\n",
            "[TRAIN] [41600/45500] Loss: 0.195326\n",
            "[TRAIN] [44800/45500] Loss: 0.201930\n",
            "[VALIDATION] Stats:\n",
            "Accuracy: 90.0%\n",
            "Average loss: 0.309725\n",
            "\n",
            "Epoch 9:\n",
            "[TRAIN] [    0/45500] Loss: 0.185205\n",
            "[TRAIN] [ 3200/45500] Loss: 0.191627\n",
            "[TRAIN] [ 6400/45500] Loss: 0.112657\n",
            "[TRAIN] [ 9600/45500] Loss: 0.132237\n",
            "[TRAIN] [12800/45500] Loss: 0.241178\n",
            "[TRAIN] [16000/45500] Loss: 0.299152\n",
            "[TRAIN] [19200/45500] Loss: 0.372015\n",
            "[TRAIN] [22400/45500] Loss: 0.135509\n",
            "[TRAIN] [25600/45500] Loss: 0.249999\n",
            "[TRAIN] [28800/45500] Loss: 0.272689\n",
            "[TRAIN] [32000/45500] Loss: 0.235909\n",
            "[TRAIN] [35200/45500] Loss: 0.217320\n",
            "[TRAIN] [38400/45500] Loss: 0.227695\n",
            "[TRAIN] [41600/45500] Loss: 0.299452\n",
            "[TRAIN] [44800/45500] Loss: 0.261394\n",
            "[VALIDATION] Stats:\n",
            "Accuracy: 90.4%\n",
            "Average loss: 0.300149\n",
            "\n",
            "Epoch 10:\n",
            "[TRAIN] [    0/45500] Loss: 0.258140\n",
            "[TRAIN] [ 3200/45500] Loss: 0.596057\n",
            "[TRAIN] [ 6400/45500] Loss: 0.377583\n",
            "[TRAIN] [ 9600/45500] Loss: 0.180991\n",
            "[TRAIN] [12800/45500] Loss: 0.297829\n",
            "[TRAIN] [16000/45500] Loss: 0.204708\n",
            "[TRAIN] [19200/45500] Loss: 0.143404\n",
            "[TRAIN] [22400/45500] Loss: 0.064798\n",
            "[TRAIN] [25600/45500] Loss: 0.181442\n",
            "[TRAIN] [28800/45500] Loss: 0.129322\n",
            "[TRAIN] [32000/45500] Loss: 0.112777\n",
            "[TRAIN] [35200/45500] Loss: 0.240770\n",
            "[TRAIN] [38400/45500] Loss: 0.235131\n",
            "[TRAIN] [41600/45500] Loss: 0.086959\n",
            "[TRAIN] [44800/45500] Loss: 0.146015\n",
            "[VALIDATION] Stats:\n",
            "Accuracy: 90.3%\n",
            "Average loss: 0.316913\n",
            "\n",
            "=============================\n"
          ]
        }
      ]
    },
    {
      "cell_type": "code",
      "metadata": {
        "id": "MqYCHDrovHY6"
      },
      "source": [
        "class ConvNN_3(nn.Module):\n",
        "    def __init__(self):\n",
        "        super(ConvNN_3, self).__init__()\n",
        "        self.flatten = nn.Flatten()     # transform to vector\n",
        "        self.conv_layers = nn.Sequential(\n",
        "            nn.Conv2d(3, 8, 5, padding=2, stride=2),\n",
        "            nn.ReLU(),\n",
        "            nn.Conv2d(8, 16, 3, padding=1, stride=2),\n",
        "            nn.ReLU(),\n",
        "            nn.Conv2d(16, 32, 3, padding=1, stride=2),\n",
        "            nn.ReLU(),\n",
        "        )\n",
        "        self.linear_layers = nn.Sequential(\n",
        "            nn.Linear(512, 256),\n",
        "            nn.ReLU(),\n",
        "            nn.Linear(256, 128),\n",
        "            nn.ReLU(),\n",
        "            nn.Linear(128, 26),\n",
        "            nn.ReLU()\n",
        "        )\n",
        "\n",
        "    def forward(self, x):\n",
        "        x = self.flatten(self.conv_layers(x))\n",
        "        return self.linear_layers(x)"
      ],
      "execution_count": 47,
      "outputs": []
    },
    {
      "cell_type": "code",
      "metadata": {
        "id": "p7oItK5YvR0n"
      },
      "source": [
        "conv_nn_3_model = ConvNN_3()\n",
        "conv_nn_3 = Model(model=conv_nn_3_model, mode='NCHW', \n",
        "              datasets=[dataset_train, dataset_val, dataset_test],\n",
        "              batch_size=32, criterion=nn.CrossEntropyLoss(), \n",
        "              optimizer=optim.SGD(conv_nn_3_model.parameters(), \n",
        "                                  lr=0.01, momentum=0.9))"
      ],
      "execution_count": 48,
      "outputs": []
    },
    {
      "cell_type": "code",
      "metadata": {
        "colab": {
          "base_uri": "https://localhost:8080/"
        },
        "id": "qW_rzK1FvRtG",
        "outputId": "2d1171b8-3f00-4d44-9f6d-79746078223f"
      },
      "source": [
        "test_conv_pool(c=conv_nn_3.model, train=conv_nn_3.train_dataloader, convs=[nn.Conv2d(3, 8, 5), nn.Conv2d(8, 16, 3), nn.Conv2d(16, 32, 3)], pool=nn.MaxPool2d(2, 2))"
      ],
      "execution_count": 49,
      "outputs": [
        {
          "output_type": "stream",
          "name": "stdout",
          "text": [
            "torch.Size([32, 3, 28, 28])\n",
            "torch.Size([32, 8, 24, 24])\n",
            "torch.Size([32, 8, 12, 12])\n",
            "-------------\n",
            "torch.Size([32, 16, 10, 10])\n",
            "torch.Size([32, 16, 5, 5])\n",
            "-------------\n",
            "torch.Size([32, 32, 3, 3])\n",
            "torch.Size([32, 32, 1, 1])\n",
            "-------------\n"
          ]
        }
      ]
    },
    {
      "cell_type": "code",
      "metadata": {
        "colab": {
          "base_uri": "https://localhost:8080/",
          "height": 1000
        },
        "id": "iWkaGqlLv1ua",
        "outputId": "9738763c-ad29-4c4e-f7b8-a86870f7b623"
      },
      "source": [
        "conv_nn_3.learn(10)"
      ],
      "execution_count": 52,
      "outputs": [
        {
          "output_type": "stream",
          "name": "stdout",
          "text": [
            "Epoch 1:\n",
            "[TRAIN] [    0/45500] Loss: 0.211746\n",
            "[TRAIN] [ 3200/45500] Loss: 0.052579\n",
            "[TRAIN] [ 6400/45500] Loss: 0.063869\n",
            "[TRAIN] [ 9600/45500] Loss: 0.075095\n",
            "[TRAIN] [12800/45500] Loss: 0.044974\n",
            "[TRAIN] [16000/45500] Loss: 0.090066\n",
            "[TRAIN] [19200/45500] Loss: 0.054790\n",
            "[TRAIN] [22400/45500] Loss: 0.048354\n",
            "[TRAIN] [25600/45500] Loss: 0.065129\n",
            "[TRAIN] [28800/45500] Loss: 0.370632\n",
            "[TRAIN] [32000/45500] Loss: 0.115969\n",
            "[TRAIN] [35200/45500] Loss: 0.014122\n",
            "[TRAIN] [38400/45500] Loss: 0.054312\n",
            "[TRAIN] [41600/45500] Loss: 0.027773\n",
            "[TRAIN] [44800/45500] Loss: 0.061659\n",
            "[VALIDATION] Stats:\n",
            "Accuracy: 92.4%\n",
            "Average loss: 0.282891\n",
            "\n",
            "Epoch 2:\n",
            "[TRAIN] [    0/45500] Loss: 0.073335\n",
            "[TRAIN] [ 3200/45500] Loss: 0.041843\n",
            "[TRAIN] [ 6400/45500] Loss: 0.022359\n",
            "[TRAIN] [ 9600/45500] Loss: 0.043078\n",
            "[TRAIN] [12800/45500] Loss: 0.058491\n",
            "[TRAIN] [16000/45500] Loss: 0.164501\n",
            "[TRAIN] [19200/45500] Loss: 0.019968\n",
            "[TRAIN] [22400/45500] Loss: 0.026694\n",
            "[TRAIN] [25600/45500] Loss: 0.123107\n",
            "[TRAIN] [28800/45500] Loss: 0.038600\n",
            "[TRAIN] [32000/45500] Loss: 0.022495\n",
            "[TRAIN] [35200/45500] Loss: 0.155088\n",
            "[TRAIN] [38400/45500] Loss: 0.032186\n",
            "[TRAIN] [41600/45500] Loss: 0.039941\n",
            "[TRAIN] [44800/45500] Loss: 0.125548\n",
            "[VALIDATION] Stats:\n",
            "Accuracy: 92.4%\n",
            "Average loss: 0.293183\n",
            "\n",
            "Epoch 3:\n",
            "[TRAIN] [    0/45500] Loss: 0.372980\n",
            "[TRAIN] [ 3200/45500] Loss: 0.103028\n",
            "[TRAIN] [ 6400/45500] Loss: 0.008920\n",
            "[TRAIN] [ 9600/45500] Loss: 0.043570\n",
            "[TRAIN] [12800/45500] Loss: 0.014616\n",
            "[TRAIN] [16000/45500] Loss: 0.035798\n",
            "[TRAIN] [19200/45500] Loss: 0.067353\n",
            "[TRAIN] [22400/45500] Loss: 0.081110\n",
            "[TRAIN] [25600/45500] Loss: 0.058669\n",
            "[TRAIN] [28800/45500] Loss: 0.010495\n",
            "[TRAIN] [32000/45500] Loss: 0.058160\n",
            "[TRAIN] [35200/45500] Loss: 0.249744\n",
            "[TRAIN] [38400/45500] Loss: 0.041012\n",
            "[TRAIN] [41600/45500] Loss: 0.098828\n",
            "[TRAIN] [44800/45500] Loss: 0.147189\n",
            "[VALIDATION] Stats:\n",
            "Accuracy: 92.3%\n",
            "Average loss: 0.302362\n",
            "\n",
            "Epoch 4:\n",
            "[TRAIN] [    0/45500] Loss: 0.144272\n",
            "[TRAIN] [ 3200/45500] Loss: 0.039952\n",
            "[TRAIN] [ 6400/45500] Loss: 0.030961\n",
            "[TRAIN] [ 9600/45500] Loss: 0.067646\n",
            "[TRAIN] [12800/45500] Loss: 0.006553\n"
          ]
        },
        {
          "output_type": "error",
          "ename": "KeyboardInterrupt",
          "evalue": "ignored",
          "traceback": [
            "\u001b[1;31m---------------------------------------------------------------------------\u001b[0m",
            "\u001b[1;31mKeyboardInterrupt\u001b[0m                         Traceback (most recent call last)",
            "\u001b[1;32m<ipython-input-52-05bcbb5df0c9>\u001b[0m in \u001b[0;36m<module>\u001b[1;34m\u001b[0m\n\u001b[1;32m----> 1\u001b[1;33m \u001b[0mconv_nn_3\u001b[0m\u001b[1;33m.\u001b[0m\u001b[0mlearn\u001b[0m\u001b[1;33m(\u001b[0m\u001b[1;36m10\u001b[0m\u001b[1;33m)\u001b[0m\u001b[1;33m\u001b[0m\u001b[1;33m\u001b[0m\u001b[0m\n\u001b[0m",
            "\u001b[1;32m<ipython-input-13-bc7864786b74>\u001b[0m in \u001b[0;36mlearn\u001b[1;34m(self, epochs)\u001b[0m\n\u001b[0;32m     35\u001b[0m         \u001b[1;32mfor\u001b[0m \u001b[0mepoch\u001b[0m \u001b[1;32min\u001b[0m \u001b[0mrange\u001b[0m\u001b[1;33m(\u001b[0m\u001b[0mepochs\u001b[0m\u001b[1;33m)\u001b[0m\u001b[1;33m:\u001b[0m\u001b[1;33m\u001b[0m\u001b[1;33m\u001b[0m\u001b[0m\n\u001b[0;32m     36\u001b[0m             \u001b[0mprint\u001b[0m\u001b[1;33m(\u001b[0m\u001b[1;34mf\"Epoch {epoch + 1}:\"\u001b[0m\u001b[1;33m)\u001b[0m\u001b[1;33m\u001b[0m\u001b[1;33m\u001b[0m\u001b[0m\n\u001b[1;32m---> 37\u001b[1;33m             \u001b[0mtrain_loss\u001b[0m\u001b[1;33m,\u001b[0m \u001b[0mtrain_acc\u001b[0m \u001b[1;33m=\u001b[0m \u001b[0mself\u001b[0m\u001b[1;33m.\u001b[0m\u001b[0mtrain\u001b[0m\u001b[1;33m(\u001b[0m\u001b[1;33m)\u001b[0m\u001b[1;33m\u001b[0m\u001b[1;33m\u001b[0m\u001b[0m\n\u001b[0m\u001b[0;32m     38\u001b[0m             \u001b[0mval_loss\u001b[0m\u001b[1;33m,\u001b[0m \u001b[0mval_acc\u001b[0m \u001b[1;33m=\u001b[0m \u001b[0mself\u001b[0m\u001b[1;33m.\u001b[0m\u001b[0mvalidate\u001b[0m\u001b[1;33m(\u001b[0m\u001b[1;33m)\u001b[0m\u001b[1;33m\u001b[0m\u001b[1;33m\u001b[0m\u001b[0m\n\u001b[0;32m     39\u001b[0m             self.tensorboard([['Training Loss', train_loss, epoch],\n",
            "\u001b[1;32m<ipython-input-13-bc7864786b74>\u001b[0m in \u001b[0;36mtrain\u001b[1;34m(self)\u001b[0m\n\u001b[0;32m     52\u001b[0m         \u001b[0mcorrect\u001b[0m \u001b[1;33m=\u001b[0m \u001b[1;36m0\u001b[0m\u001b[1;33m\u001b[0m\u001b[1;33m\u001b[0m\u001b[0m\n\u001b[0;32m     53\u001b[0m \u001b[1;33m\u001b[0m\u001b[0m\n\u001b[1;32m---> 54\u001b[1;33m         \u001b[1;32mfor\u001b[0m \u001b[0mi\u001b[0m\u001b[1;33m,\u001b[0m \u001b[1;33m(\u001b[0m\u001b[0mX\u001b[0m\u001b[1;33m,\u001b[0m \u001b[0my\u001b[0m\u001b[1;33m)\u001b[0m \u001b[1;32min\u001b[0m \u001b[0menumerate\u001b[0m\u001b[1;33m(\u001b[0m\u001b[0mself\u001b[0m\u001b[1;33m.\u001b[0m\u001b[0mtrain_dataloader\u001b[0m\u001b[1;33m)\u001b[0m\u001b[1;33m:\u001b[0m\u001b[1;33m\u001b[0m\u001b[1;33m\u001b[0m\u001b[0m\n\u001b[0m\u001b[0;32m     55\u001b[0m             \u001b[1;32mif\u001b[0m \u001b[0mself\u001b[0m\u001b[1;33m.\u001b[0m\u001b[0mmode\u001b[0m \u001b[1;33m==\u001b[0m \u001b[1;34m'NCHW'\u001b[0m\u001b[1;33m:\u001b[0m\u001b[1;33m\u001b[0m\u001b[1;33m\u001b[0m\u001b[0m\n\u001b[0;32m     56\u001b[0m                 \u001b[0mX\u001b[0m \u001b[1;33m=\u001b[0m \u001b[0mX\u001b[0m\u001b[1;33m.\u001b[0m\u001b[0mpermute\u001b[0m\u001b[1;33m(\u001b[0m\u001b[1;36m0\u001b[0m\u001b[1;33m,\u001b[0m \u001b[1;36m3\u001b[0m\u001b[1;33m,\u001b[0m \u001b[1;36m1\u001b[0m\u001b[1;33m,\u001b[0m \u001b[1;36m2\u001b[0m\u001b[1;33m)\u001b[0m\u001b[1;33m\u001b[0m\u001b[1;33m\u001b[0m\u001b[0m\n",
            "\u001b[1;32mF:\\Anaconda\\lib\\site-packages\\torch\\utils\\data\\dataloader.py\u001b[0m in \u001b[0;36m__next__\u001b[1;34m(self)\u001b[0m\n\u001b[0;32m    433\u001b[0m         \u001b[1;32mif\u001b[0m \u001b[0mself\u001b[0m\u001b[1;33m.\u001b[0m\u001b[0m_sampler_iter\u001b[0m \u001b[1;32mis\u001b[0m \u001b[1;32mNone\u001b[0m\u001b[1;33m:\u001b[0m\u001b[1;33m\u001b[0m\u001b[1;33m\u001b[0m\u001b[0m\n\u001b[0;32m    434\u001b[0m             \u001b[0mself\u001b[0m\u001b[1;33m.\u001b[0m\u001b[0m_reset\u001b[0m\u001b[1;33m(\u001b[0m\u001b[1;33m)\u001b[0m\u001b[1;33m\u001b[0m\u001b[1;33m\u001b[0m\u001b[0m\n\u001b[1;32m--> 435\u001b[1;33m         \u001b[0mdata\u001b[0m \u001b[1;33m=\u001b[0m \u001b[0mself\u001b[0m\u001b[1;33m.\u001b[0m\u001b[0m_next_data\u001b[0m\u001b[1;33m(\u001b[0m\u001b[1;33m)\u001b[0m\u001b[1;33m\u001b[0m\u001b[1;33m\u001b[0m\u001b[0m\n\u001b[0m\u001b[0;32m    436\u001b[0m         \u001b[0mself\u001b[0m\u001b[1;33m.\u001b[0m\u001b[0m_num_yielded\u001b[0m \u001b[1;33m+=\u001b[0m \u001b[1;36m1\u001b[0m\u001b[1;33m\u001b[0m\u001b[1;33m\u001b[0m\u001b[0m\n\u001b[0;32m    437\u001b[0m         \u001b[1;32mif\u001b[0m \u001b[0mself\u001b[0m\u001b[1;33m.\u001b[0m\u001b[0m_dataset_kind\u001b[0m \u001b[1;33m==\u001b[0m \u001b[0m_DatasetKind\u001b[0m\u001b[1;33m.\u001b[0m\u001b[0mIterable\u001b[0m \u001b[1;32mand\u001b[0m\u001b[0;31m \u001b[0m\u001b[0;31m\\\u001b[0m\u001b[1;33m\u001b[0m\u001b[1;33m\u001b[0m\u001b[0m\n",
            "\u001b[1;32mF:\\Anaconda\\lib\\site-packages\\torch\\utils\\data\\dataloader.py\u001b[0m in \u001b[0;36m_next_data\u001b[1;34m(self)\u001b[0m\n\u001b[0;32m    473\u001b[0m     \u001b[1;32mdef\u001b[0m \u001b[0m_next_data\u001b[0m\u001b[1;33m(\u001b[0m\u001b[0mself\u001b[0m\u001b[1;33m)\u001b[0m\u001b[1;33m:\u001b[0m\u001b[1;33m\u001b[0m\u001b[1;33m\u001b[0m\u001b[0m\n\u001b[0;32m    474\u001b[0m         \u001b[0mindex\u001b[0m \u001b[1;33m=\u001b[0m \u001b[0mself\u001b[0m\u001b[1;33m.\u001b[0m\u001b[0m_next_index\u001b[0m\u001b[1;33m(\u001b[0m\u001b[1;33m)\u001b[0m  \u001b[1;31m# may raise StopIteration\u001b[0m\u001b[1;33m\u001b[0m\u001b[1;33m\u001b[0m\u001b[0m\n\u001b[1;32m--> 475\u001b[1;33m         \u001b[0mdata\u001b[0m \u001b[1;33m=\u001b[0m \u001b[0mself\u001b[0m\u001b[1;33m.\u001b[0m\u001b[0m_dataset_fetcher\u001b[0m\u001b[1;33m.\u001b[0m\u001b[0mfetch\u001b[0m\u001b[1;33m(\u001b[0m\u001b[0mindex\u001b[0m\u001b[1;33m)\u001b[0m  \u001b[1;31m# may raise StopIteration\u001b[0m\u001b[1;33m\u001b[0m\u001b[1;33m\u001b[0m\u001b[0m\n\u001b[0m\u001b[0;32m    476\u001b[0m         \u001b[1;32mif\u001b[0m \u001b[0mself\u001b[0m\u001b[1;33m.\u001b[0m\u001b[0m_pin_memory\u001b[0m\u001b[1;33m:\u001b[0m\u001b[1;33m\u001b[0m\u001b[1;33m\u001b[0m\u001b[0m\n\u001b[0;32m    477\u001b[0m             \u001b[0mdata\u001b[0m \u001b[1;33m=\u001b[0m \u001b[0m_utils\u001b[0m\u001b[1;33m.\u001b[0m\u001b[0mpin_memory\u001b[0m\u001b[1;33m.\u001b[0m\u001b[0mpin_memory\u001b[0m\u001b[1;33m(\u001b[0m\u001b[0mdata\u001b[0m\u001b[1;33m)\u001b[0m\u001b[1;33m\u001b[0m\u001b[1;33m\u001b[0m\u001b[0m\n",
            "\u001b[1;32mF:\\Anaconda\\lib\\site-packages\\torch\\utils\\data\\_utils\\fetch.py\u001b[0m in \u001b[0;36mfetch\u001b[1;34m(self, possibly_batched_index)\u001b[0m\n\u001b[0;32m     45\u001b[0m         \u001b[1;32melse\u001b[0m\u001b[1;33m:\u001b[0m\u001b[1;33m\u001b[0m\u001b[1;33m\u001b[0m\u001b[0m\n\u001b[0;32m     46\u001b[0m             \u001b[0mdata\u001b[0m \u001b[1;33m=\u001b[0m \u001b[0mself\u001b[0m\u001b[1;33m.\u001b[0m\u001b[0mdataset\u001b[0m\u001b[1;33m[\u001b[0m\u001b[0mpossibly_batched_index\u001b[0m\u001b[1;33m]\u001b[0m\u001b[1;33m\u001b[0m\u001b[1;33m\u001b[0m\u001b[0m\n\u001b[1;32m---> 47\u001b[1;33m         \u001b[1;32mreturn\u001b[0m \u001b[0mself\u001b[0m\u001b[1;33m.\u001b[0m\u001b[0mcollate_fn\u001b[0m\u001b[1;33m(\u001b[0m\u001b[0mdata\u001b[0m\u001b[1;33m)\u001b[0m\u001b[1;33m\u001b[0m\u001b[1;33m\u001b[0m\u001b[0m\n\u001b[0m",
            "\u001b[1;32mF:\\Anaconda\\lib\\site-packages\\torch\\utils\\data\\_utils\\collate.py\u001b[0m in \u001b[0;36mdefault_collate\u001b[1;34m(batch)\u001b[0m\n\u001b[0;32m     81\u001b[0m             \u001b[1;32mraise\u001b[0m \u001b[0mRuntimeError\u001b[0m\u001b[1;33m(\u001b[0m\u001b[1;34m'each element in list of batch should be of equal size'\u001b[0m\u001b[1;33m)\u001b[0m\u001b[1;33m\u001b[0m\u001b[1;33m\u001b[0m\u001b[0m\n\u001b[0;32m     82\u001b[0m         \u001b[0mtransposed\u001b[0m \u001b[1;33m=\u001b[0m \u001b[0mzip\u001b[0m\u001b[1;33m(\u001b[0m\u001b[1;33m*\u001b[0m\u001b[0mbatch\u001b[0m\u001b[1;33m)\u001b[0m\u001b[1;33m\u001b[0m\u001b[1;33m\u001b[0m\u001b[0m\n\u001b[1;32m---> 83\u001b[1;33m         \u001b[1;32mreturn\u001b[0m \u001b[1;33m[\u001b[0m\u001b[0mdefault_collate\u001b[0m\u001b[1;33m(\u001b[0m\u001b[0msamples\u001b[0m\u001b[1;33m)\u001b[0m \u001b[1;32mfor\u001b[0m \u001b[0msamples\u001b[0m \u001b[1;32min\u001b[0m \u001b[0mtransposed\u001b[0m\u001b[1;33m]\u001b[0m\u001b[1;33m\u001b[0m\u001b[1;33m\u001b[0m\u001b[0m\n\u001b[0m\u001b[0;32m     84\u001b[0m \u001b[1;33m\u001b[0m\u001b[0m\n\u001b[0;32m     85\u001b[0m     \u001b[1;32mraise\u001b[0m \u001b[0mTypeError\u001b[0m\u001b[1;33m(\u001b[0m\u001b[0mdefault_collate_err_msg_format\u001b[0m\u001b[1;33m.\u001b[0m\u001b[0mformat\u001b[0m\u001b[1;33m(\u001b[0m\u001b[0melem_type\u001b[0m\u001b[1;33m)\u001b[0m\u001b[1;33m)\u001b[0m\u001b[1;33m\u001b[0m\u001b[1;33m\u001b[0m\u001b[0m\n",
            "\u001b[1;32mF:\\Anaconda\\lib\\site-packages\\torch\\utils\\data\\_utils\\collate.py\u001b[0m in \u001b[0;36m<listcomp>\u001b[1;34m(.0)\u001b[0m\n\u001b[0;32m     81\u001b[0m             \u001b[1;32mraise\u001b[0m \u001b[0mRuntimeError\u001b[0m\u001b[1;33m(\u001b[0m\u001b[1;34m'each element in list of batch should be of equal size'\u001b[0m\u001b[1;33m)\u001b[0m\u001b[1;33m\u001b[0m\u001b[1;33m\u001b[0m\u001b[0m\n\u001b[0;32m     82\u001b[0m         \u001b[0mtransposed\u001b[0m \u001b[1;33m=\u001b[0m \u001b[0mzip\u001b[0m\u001b[1;33m(\u001b[0m\u001b[1;33m*\u001b[0m\u001b[0mbatch\u001b[0m\u001b[1;33m)\u001b[0m\u001b[1;33m\u001b[0m\u001b[1;33m\u001b[0m\u001b[0m\n\u001b[1;32m---> 83\u001b[1;33m         \u001b[1;32mreturn\u001b[0m \u001b[1;33m[\u001b[0m\u001b[0mdefault_collate\u001b[0m\u001b[1;33m(\u001b[0m\u001b[0msamples\u001b[0m\u001b[1;33m)\u001b[0m \u001b[1;32mfor\u001b[0m \u001b[0msamples\u001b[0m \u001b[1;32min\u001b[0m \u001b[0mtransposed\u001b[0m\u001b[1;33m]\u001b[0m\u001b[1;33m\u001b[0m\u001b[1;33m\u001b[0m\u001b[0m\n\u001b[0m\u001b[0;32m     84\u001b[0m \u001b[1;33m\u001b[0m\u001b[0m\n\u001b[0;32m     85\u001b[0m     \u001b[1;32mraise\u001b[0m \u001b[0mTypeError\u001b[0m\u001b[1;33m(\u001b[0m\u001b[0mdefault_collate_err_msg_format\u001b[0m\u001b[1;33m.\u001b[0m\u001b[0mformat\u001b[0m\u001b[1;33m(\u001b[0m\u001b[0melem_type\u001b[0m\u001b[1;33m)\u001b[0m\u001b[1;33m)\u001b[0m\u001b[1;33m\u001b[0m\u001b[1;33m\u001b[0m\u001b[0m\n",
            "\u001b[1;32mF:\\Anaconda\\lib\\site-packages\\torch\\utils\\data\\_utils\\collate.py\u001b[0m in \u001b[0;36mdefault_collate\u001b[1;34m(batch)\u001b[0m\n\u001b[0;32m     53\u001b[0m             \u001b[0mstorage\u001b[0m \u001b[1;33m=\u001b[0m \u001b[0melem\u001b[0m\u001b[1;33m.\u001b[0m\u001b[0mstorage\u001b[0m\u001b[1;33m(\u001b[0m\u001b[1;33m)\u001b[0m\u001b[1;33m.\u001b[0m\u001b[0m_new_shared\u001b[0m\u001b[1;33m(\u001b[0m\u001b[0mnumel\u001b[0m\u001b[1;33m)\u001b[0m\u001b[1;33m\u001b[0m\u001b[1;33m\u001b[0m\u001b[0m\n\u001b[0;32m     54\u001b[0m             \u001b[0mout\u001b[0m \u001b[1;33m=\u001b[0m \u001b[0melem\u001b[0m\u001b[1;33m.\u001b[0m\u001b[0mnew\u001b[0m\u001b[1;33m(\u001b[0m\u001b[0mstorage\u001b[0m\u001b[1;33m)\u001b[0m\u001b[1;33m\u001b[0m\u001b[1;33m\u001b[0m\u001b[0m\n\u001b[1;32m---> 55\u001b[1;33m         \u001b[1;32mreturn\u001b[0m \u001b[0mtorch\u001b[0m\u001b[1;33m.\u001b[0m\u001b[0mstack\u001b[0m\u001b[1;33m(\u001b[0m\u001b[0mbatch\u001b[0m\u001b[1;33m,\u001b[0m \u001b[1;36m0\u001b[0m\u001b[1;33m,\u001b[0m \u001b[0mout\u001b[0m\u001b[1;33m=\u001b[0m\u001b[0mout\u001b[0m\u001b[1;33m)\u001b[0m\u001b[1;33m\u001b[0m\u001b[1;33m\u001b[0m\u001b[0m\n\u001b[0m\u001b[0;32m     56\u001b[0m     \u001b[1;32melif\u001b[0m \u001b[0melem_type\u001b[0m\u001b[1;33m.\u001b[0m\u001b[0m__module__\u001b[0m \u001b[1;33m==\u001b[0m \u001b[1;34m'numpy'\u001b[0m \u001b[1;32mand\u001b[0m \u001b[0melem_type\u001b[0m\u001b[1;33m.\u001b[0m\u001b[0m__name__\u001b[0m \u001b[1;33m!=\u001b[0m \u001b[1;34m'str_'\u001b[0m\u001b[0;31m \u001b[0m\u001b[0;31m\\\u001b[0m\u001b[1;33m\u001b[0m\u001b[1;33m\u001b[0m\u001b[0m\n\u001b[0;32m     57\u001b[0m             \u001b[1;32mand\u001b[0m \u001b[0melem_type\u001b[0m\u001b[1;33m.\u001b[0m\u001b[0m__name__\u001b[0m \u001b[1;33m!=\u001b[0m \u001b[1;34m'string_'\u001b[0m\u001b[1;33m:\u001b[0m\u001b[1;33m\u001b[0m\u001b[1;33m\u001b[0m\u001b[0m\n",
            "\u001b[1;31mKeyboardInterrupt\u001b[0m: "
          ]
        }
      ]
    },
    {
      "cell_type": "code",
      "metadata": {
        "colab": {
          "base_uri": "https://localhost:8080/"
        },
        "id": "_axBnvQGydfx",
        "outputId": "f199121e-d87c-41b4-841d-f0e8212513a4"
      },
      "source": [
        "print(\"[Models accuracy]\")\n",
        "for model in [conv_nn_1, conv_nn_2, conv_nn_3]:\n",
        "    model.get_accuracy()"
      ],
      "execution_count": null,
      "outputs": [
        {
          "output_type": "stream",
          "name": "stdout",
          "text": [
            "[Models accuracy]\n",
            "Accuracy of ConvNN_1--2021-12-01--00-09-38 on 13000 test images: 89.9%\n",
            "Accuracy of ConvNN_2--2021-12-01--00-19-38 on 13000 test images: 90.00769230769231%\n",
            "Accuracy of ConvNN_3--2021-12-01--00-35-44 on 13000 test images: 92.23846153846154%\n"
          ]
        }
      ]
    },
    {
      "cell_type": "markdown",
      "metadata": {
        "id": "7VwJ1Bnyz9ge"
      },
      "source": [
        "*Эксперименты с BatchNorm*"
      ]
    },
    {
      "cell_type": "code",
      "metadata": {
        "id": "UpEbfqb50A1S"
      },
      "source": [
        "class ConvNN_3_BN(nn.Module):\n",
        "    def __init__(self):\n",
        "        super(ConvNN_3_BN, self).__init__()\n",
        "        self.flatten = nn.Flatten()     # transform to vector\n",
        "        self.conv_layers = nn.Sequential(\n",
        "            nn.Conv2d(3, 8, 5, padding=2, stride=2),\n",
        "            nn.ReLU(),\n",
        "            nn.Conv2d(8, 16, 3, padding=1, stride=2),\n",
        "            nn.BatchNorm2d(16),\n",
        "            nn.ReLU(),\n",
        "            nn.Conv2d(16, 32, 3, padding=1, stride=2),\n",
        "            nn.ReLU(),\n",
        "        )\n",
        "        self.linear_layers = nn.Sequential(\n",
        "            nn.Linear(512, 256),\n",
        "            nn.ReLU(),\n",
        "            nn.Linear(256, 128),\n",
        "            nn.ReLU(),\n",
        "            nn.Linear(128, 26),\n",
        "            nn.ReLU()\n",
        "        )\n",
        "\n",
        "    def forward(self, x):\n",
        "        x = self.flatten(self.conv_layers(x))\n",
        "        return self.linear_layers(x)"
      ],
      "execution_count": 30,
      "outputs": []
    },
    {
      "cell_type": "code",
      "metadata": {
        "id": "zNnBCiDX0oTZ"
      },
      "source": [
        "conv_nn_3_bn_model = ConvNN_3_BN()\n",
        "conv_nn_3_bn = Model(model=conv_nn_3_bn_model, mode='NCHW', \n",
        "              datasets=[dataset_train, dataset_val, dataset_test],\n",
        "              batch_size=32, criterion=nn.CrossEntropyLoss(), \n",
        "              optimizer=optim.SGD(conv_nn_3_bn_model.parameters(), \n",
        "                                  lr=0.01, momentum=0.9))"
      ],
      "execution_count": 32,
      "outputs": []
    },
    {
      "cell_type": "code",
      "metadata": {
        "colab": {
          "base_uri": "https://localhost:8080/"
        },
        "id": "M8Zqlbz70tzo",
        "outputId": "9b2f9b70-8781-4784-b6ce-95c2f8bd5109"
      },
      "source": [
        "test_conv_pool(c=conv_nn_3_bn.model, train=conv_nn_3_bn.train_dataloader, convs=[nn.Conv2d(3, 8, 5), nn.Conv2d(8, 16, 3), nn.Conv2d(16, 32, 3)], pool=nn.MaxPool2d(2, 2))"
      ],
      "execution_count": 33,
      "outputs": [
        {
          "output_type": "stream",
          "name": "stdout",
          "text": [
            "torch.Size([32, 3, 28, 28])\n",
            "torch.Size([32, 8, 24, 24])\n",
            "torch.Size([32, 8, 12, 12])\n",
            "-------------\n",
            "torch.Size([32, 16, 10, 10])\n",
            "torch.Size([32, 16, 5, 5])\n",
            "-------------\n",
            "torch.Size([32, 32, 3, 3])\n",
            "torch.Size([32, 32, 1, 1])\n",
            "-------------\n"
          ]
        }
      ]
    },
    {
      "cell_type": "code",
      "metadata": {
        "colab": {
          "base_uri": "https://localhost:8080/"
        },
        "id": "y9bXB8k406dz",
        "outputId": "d9a59422-3a27-4c83-9e97-c646ecb665d2"
      },
      "source": [
        "conv_nn_3_bn.learn(10)"
      ],
      "execution_count": 36,
      "outputs": [
        {
          "output_type": "stream",
          "name": "stdout",
          "text": [
            "Epoch 1:\n",
            "[TRAIN] [    0/45500] Loss: 0.326752\n",
            "[TRAIN] [ 3200/45500] Loss: 0.115081\n",
            "[TRAIN] [ 6400/45500] Loss: 0.231536\n",
            "[TRAIN] [ 9600/45500] Loss: 0.204611\n",
            "[TRAIN] [12800/45500] Loss: 0.584011\n",
            "[TRAIN] [16000/45500] Loss: 0.115385\n",
            "[TRAIN] [19200/45500] Loss: 0.151749\n",
            "[TRAIN] [22400/45500] Loss: 0.219834\n",
            "[TRAIN] [25600/45500] Loss: 0.529908\n",
            "[TRAIN] [28800/45500] Loss: 0.109642\n",
            "[TRAIN] [32000/45500] Loss: 0.300212\n",
            "[TRAIN] [35200/45500] Loss: 0.349228\n",
            "[TRAIN] [38400/45500] Loss: 0.410096\n",
            "[TRAIN] [41600/45500] Loss: 0.275862\n",
            "[TRAIN] [44800/45500] Loss: 0.122532\n",
            "[VALIDATION] Stats:\n",
            "Accuracy: 88.5%\n",
            "Average loss: 0.468818\n",
            "\n",
            "Epoch 2:\n",
            "[TRAIN] [    0/45500] Loss: 0.222463\n",
            "[TRAIN] [ 3200/45500] Loss: 0.189145\n",
            "[TRAIN] [ 6400/45500] Loss: 0.207860\n",
            "[TRAIN] [ 9600/45500] Loss: 0.056816\n",
            "[TRAIN] [12800/45500] Loss: 0.170444\n",
            "[TRAIN] [16000/45500] Loss: 0.121043\n",
            "[TRAIN] [19200/45500] Loss: 0.008654\n",
            "[TRAIN] [22400/45500] Loss: 0.341993\n",
            "[TRAIN] [25600/45500] Loss: 0.282211\n",
            "[TRAIN] [28800/45500] Loss: 0.209711\n",
            "[TRAIN] [32000/45500] Loss: 0.075954\n",
            "[TRAIN] [35200/45500] Loss: 0.188158\n",
            "[TRAIN] [38400/45500] Loss: 0.026908\n",
            "[TRAIN] [41600/45500] Loss: 0.104464\n",
            "[TRAIN] [44800/45500] Loss: 0.193699\n",
            "[VALIDATION] Stats:\n",
            "Accuracy: 88.7%\n",
            "Average loss: 0.476966\n",
            "\n",
            "Epoch 3:\n",
            "[TRAIN] [    0/45500] Loss: 0.181128\n",
            "[TRAIN] [ 3200/45500] Loss: 0.027154\n",
            "[TRAIN] [ 6400/45500] Loss: 0.335988\n",
            "[TRAIN] [ 9600/45500] Loss: 0.447030\n",
            "[TRAIN] [12800/45500] Loss: 0.327329\n",
            "[TRAIN] [16000/45500] Loss: 0.244048\n",
            "[TRAIN] [19200/45500] Loss: 0.351486\n",
            "[TRAIN] [22400/45500] Loss: 0.309393\n",
            "[TRAIN] [25600/45500] Loss: 0.138208\n",
            "[TRAIN] [28800/45500] Loss: 0.045178\n",
            "[TRAIN] [32000/45500] Loss: 0.149924\n",
            "[TRAIN] [35200/45500] Loss: 0.126891\n",
            "[TRAIN] [38400/45500] Loss: 0.020989\n",
            "[TRAIN] [41600/45500] Loss: 0.112217\n",
            "[TRAIN] [44800/45500] Loss: 0.101776\n",
            "[VALIDATION] Stats:\n",
            "Accuracy: 88.5%\n",
            "Average loss: 0.502552\n",
            "\n",
            "Epoch 4:\n",
            "[TRAIN] [    0/45500] Loss: 0.157933\n",
            "[TRAIN] [ 3200/45500] Loss: 0.108520\n",
            "[TRAIN] [ 6400/45500] Loss: 0.119899\n",
            "[TRAIN] [ 9600/45500] Loss: 0.119740\n",
            "[TRAIN] [12800/45500] Loss: 0.197283\n",
            "[TRAIN] [16000/45500] Loss: 0.103183\n",
            "[TRAIN] [19200/45500] Loss: 0.160587\n",
            "[TRAIN] [22400/45500] Loss: 0.211224\n",
            "[TRAIN] [25600/45500] Loss: 0.247468\n",
            "[TRAIN] [28800/45500] Loss: 0.244845\n",
            "[TRAIN] [32000/45500] Loss: 0.101668\n",
            "[TRAIN] [35200/45500] Loss: 0.232996\n",
            "[TRAIN] [38400/45500] Loss: 0.046061\n",
            "[TRAIN] [41600/45500] Loss: 0.313921\n",
            "[TRAIN] [44800/45500] Loss: 0.133532\n",
            "[VALIDATION] Stats:\n",
            "Accuracy: 88.5%\n",
            "Average loss: 0.496436\n",
            "\n",
            "Epoch 5:\n",
            "[TRAIN] [    0/45500] Loss: 0.151223\n",
            "[TRAIN] [ 3200/45500] Loss: 0.204030\n",
            "[TRAIN] [ 6400/45500] Loss: 0.110720\n",
            "[TRAIN] [ 9600/45500] Loss: 0.063723\n",
            "[TRAIN] [12800/45500] Loss: 0.017278\n",
            "[TRAIN] [16000/45500] Loss: 0.109402\n",
            "[TRAIN] [19200/45500] Loss: 0.110390\n",
            "[TRAIN] [22400/45500] Loss: 0.249195\n",
            "[TRAIN] [25600/45500] Loss: 0.002706\n",
            "[TRAIN] [28800/45500] Loss: 0.107259\n",
            "[TRAIN] [32000/45500] Loss: 0.044699\n",
            "[TRAIN] [35200/45500] Loss: 0.141118\n",
            "[TRAIN] [38400/45500] Loss: 0.156675\n",
            "[TRAIN] [41600/45500] Loss: 0.267020\n",
            "[TRAIN] [44800/45500] Loss: 0.117469\n",
            "[VALIDATION] Stats:\n",
            "Accuracy: 88.5%\n",
            "Average loss: 0.502637\n",
            "\n",
            "Epoch 6:\n",
            "[TRAIN] [    0/45500] Loss: 0.234268\n",
            "[TRAIN] [ 3200/45500] Loss: 0.324501\n",
            "[TRAIN] [ 6400/45500] Loss: 0.057923\n",
            "[TRAIN] [ 9600/45500] Loss: 0.113548\n",
            "[TRAIN] [12800/45500] Loss: 0.113247\n",
            "[TRAIN] [16000/45500] Loss: 0.079816\n",
            "[TRAIN] [19200/45500] Loss: 0.313209\n",
            "[TRAIN] [22400/45500] Loss: 0.286622\n",
            "[TRAIN] [25600/45500] Loss: 0.181936\n",
            "[TRAIN] [28800/45500] Loss: 0.210198\n",
            "[TRAIN] [32000/45500] Loss: 0.025873\n",
            "[TRAIN] [35200/45500] Loss: 0.075283\n",
            "[TRAIN] [38400/45500] Loss: 0.218218\n",
            "[TRAIN] [41600/45500] Loss: 0.217135\n",
            "[TRAIN] [44800/45500] Loss: 0.399586\n",
            "[VALIDATION] Stats:\n",
            "Accuracy: 88.7%\n",
            "Average loss: 0.505594\n",
            "\n",
            "Epoch 7:\n",
            "[TRAIN] [    0/45500] Loss: 0.304920\n",
            "[TRAIN] [ 3200/45500] Loss: 0.200926\n",
            "[TRAIN] [ 6400/45500] Loss: 0.342358\n",
            "[TRAIN] [ 9600/45500] Loss: 0.070719\n",
            "[TRAIN] [12800/45500] Loss: 0.302289\n",
            "[TRAIN] [16000/45500] Loss: 0.232433\n",
            "[TRAIN] [19200/45500] Loss: 0.031818\n",
            "[TRAIN] [22400/45500] Loss: 0.052485\n",
            "[TRAIN] [25600/45500] Loss: 0.222543\n",
            "[TRAIN] [28800/45500] Loss: 0.135160\n",
            "[TRAIN] [32000/45500] Loss: 0.242162\n",
            "[TRAIN] [35200/45500] Loss: 0.411813\n",
            "[TRAIN] [38400/45500] Loss: 0.355569\n",
            "[TRAIN] [41600/45500] Loss: 0.092682\n",
            "[TRAIN] [44800/45500] Loss: 0.147046\n",
            "[VALIDATION] Stats:\n",
            "Accuracy: 88.5%\n",
            "Average loss: 0.515028\n",
            "\n",
            "Epoch 8:\n",
            "[TRAIN] [    0/45500] Loss: 0.058285\n",
            "[TRAIN] [ 3200/45500] Loss: 0.187160\n",
            "[TRAIN] [ 6400/45500] Loss: 0.043077\n",
            "[TRAIN] [ 9600/45500] Loss: 0.313346\n",
            "[TRAIN] [12800/45500] Loss: 0.025133\n",
            "[TRAIN] [16000/45500] Loss: 0.217049\n",
            "[TRAIN] [19200/45500] Loss: 0.126641\n",
            "[TRAIN] [22400/45500] Loss: 0.024515\n",
            "[TRAIN] [25600/45500] Loss: 0.158986\n",
            "[TRAIN] [28800/45500] Loss: 0.315703\n",
            "[TRAIN] [32000/45500] Loss: 0.166130\n",
            "[TRAIN] [35200/45500] Loss: 0.115568\n",
            "[TRAIN] [38400/45500] Loss: 0.373857\n",
            "[TRAIN] [41600/45500] Loss: 0.309540\n",
            "[TRAIN] [44800/45500] Loss: 0.289041\n",
            "[VALIDATION] Stats:\n",
            "Accuracy: 88.7%\n",
            "Average loss: 0.522922\n",
            "\n",
            "Epoch 9:\n",
            "[TRAIN] [    0/45500] Loss: 0.256526\n",
            "[TRAIN] [ 3200/45500] Loss: 0.208741\n",
            "[TRAIN] [ 6400/45500] Loss: 0.142168\n",
            "[TRAIN] [ 9600/45500] Loss: 0.014375\n",
            "[TRAIN] [12800/45500] Loss: 0.018949\n",
            "[TRAIN] [16000/45500] Loss: 0.353082\n",
            "[TRAIN] [19200/45500] Loss: 0.111053\n",
            "[TRAIN] [22400/45500] Loss: 0.034844\n",
            "[TRAIN] [25600/45500] Loss: 0.055543\n",
            "[TRAIN] [28800/45500] Loss: 0.034178\n",
            "[TRAIN] [32000/45500] Loss: 0.017903\n",
            "[TRAIN] [35200/45500] Loss: 0.344318\n",
            "[TRAIN] [38400/45500] Loss: 0.109995\n",
            "[TRAIN] [41600/45500] Loss: 0.342211\n",
            "[TRAIN] [44800/45500] Loss: 0.108257\n",
            "[VALIDATION] Stats:\n",
            "Accuracy: 88.7%\n",
            "Average loss: 0.504014\n",
            "\n",
            "Epoch 10:\n",
            "[TRAIN] [    0/45500] Loss: 0.036509\n",
            "[TRAIN] [ 3200/45500] Loss: 0.048933\n",
            "[TRAIN] [ 6400/45500] Loss: 0.124379\n",
            "[TRAIN] [ 9600/45500] Loss: 0.135017\n",
            "[TRAIN] [12800/45500] Loss: 0.133909\n",
            "[TRAIN] [16000/45500] Loss: 0.106808\n",
            "[TRAIN] [19200/45500] Loss: 0.216721\n",
            "[TRAIN] [22400/45500] Loss: 0.225068\n",
            "[TRAIN] [25600/45500] Loss: 0.238256\n",
            "[TRAIN] [28800/45500] Loss: 0.215637\n",
            "[TRAIN] [32000/45500] Loss: 0.098253\n",
            "[TRAIN] [35200/45500] Loss: 0.058949\n",
            "[TRAIN] [38400/45500] Loss: 0.329887\n",
            "[TRAIN] [41600/45500] Loss: 0.168672\n",
            "[TRAIN] [44800/45500] Loss: 0.177689\n",
            "[VALIDATION] Stats:\n",
            "Accuracy: 88.3%\n",
            "Average loss: 0.523768\n",
            "\n",
            "=============================\n"
          ]
        }
      ]
    },
    {
      "cell_type": "markdown",
      "metadata": {
        "id": "IsHvJBivoZM0"
      },
      "source": [
        "*Эксперименты с GroupNorm*"
      ]
    },
    {
      "cell_type": "code",
      "metadata": {
        "id": "xEETsMlRod0R"
      },
      "source": [
        "class ConvNN_3_GN(nn.Module):\n",
        "    def __init__(self):\n",
        "        super(ConvNN_3_GN, self).__init__()\n",
        "        self.flatten = nn.Flatten()     # transform to vector\n",
        "        self.conv_layers = nn.Sequential(\n",
        "            nn.Conv2d(3, 8, 5, padding=2, stride=2),\n",
        "            nn.ReLU(),\n",
        "            nn.Conv2d(8, 16, 3, padding=1, stride=2),\n",
        "            nn.GroupNorm(4, 16),\n",
        "            nn.ReLU(),\n",
        "            nn.Conv2d(16, 32, 3, padding=1, stride=2),\n",
        "            nn.ReLU(),\n",
        "        )\n",
        "        self.linear_layers = nn.Sequential(\n",
        "            nn.Linear(512, 256),\n",
        "            nn.ReLU(),\n",
        "            nn.Linear(256, 128),\n",
        "            nn.ReLU(),\n",
        "            nn.Linear(128, 26),\n",
        "            nn.ReLU()\n",
        "        )\n",
        "\n",
        "    def forward(self, x):\n",
        "        x = self.flatten(self.conv_layers(x))\n",
        "        return self.linear_layers(x)"
      ],
      "execution_count": 41,
      "outputs": []
    },
    {
      "cell_type": "code",
      "metadata": {
        "id": "ja3yvCqdokOk"
      },
      "source": [
        "conv_nn_3_gn_model = ConvNN_3_BN()\n",
        "conv_nn_3_gn = Model(model=conv_nn_3_gn_model, mode='NCHW', \n",
        "              datasets=[dataset_train, dataset_val, dataset_test],\n",
        "              batch_size=32, criterion=nn.CrossEntropyLoss(), \n",
        "              optimizer=optim.SGD(conv_nn_3_gn_model.parameters(), \n",
        "                                  lr=0.01, momentum=0.9))"
      ],
      "execution_count": 42,
      "outputs": []
    },
    {
      "cell_type": "code",
      "metadata": {
        "colab": {
          "base_uri": "https://localhost:8080/"
        },
        "id": "RhyuiUFnor7d",
        "outputId": "178ca1a4-e666-4ec0-dea0-f36e34150572"
      },
      "source": [
        "test_conv_pool(c=conv_nn_3_gn.model, train=conv_nn_3_gn.train_dataloader, convs=[nn.Conv2d(3, 8, 5), nn.Conv2d(8, 16, 3), nn.Conv2d(16, 32, 3)], pool=nn.MaxPool2d(2, 2))"
      ],
      "execution_count": 43,
      "outputs": [
        {
          "output_type": "stream",
          "name": "stdout",
          "text": [
            "torch.Size([32, 3, 28, 28])\n",
            "torch.Size([32, 8, 24, 24])\n",
            "torch.Size([32, 8, 12, 12])\n",
            "-------------\n",
            "torch.Size([32, 16, 10, 10])\n",
            "torch.Size([32, 16, 5, 5])\n",
            "-------------\n",
            "torch.Size([32, 32, 3, 3])\n",
            "torch.Size([32, 32, 1, 1])\n",
            "-------------\n"
          ]
        }
      ]
    },
    {
      "cell_type": "code",
      "metadata": {
        "colab": {
          "base_uri": "https://localhost:8080/"
        },
        "id": "QKV8yMhWpu9t",
        "outputId": "88d06054-7de4-4fa8-df64-d45435194d53"
      },
      "source": [
        "conv_nn_3_gn.learn(10)"
      ],
      "execution_count": 44,
      "outputs": [
        {
          "output_type": "stream",
          "name": "stdout",
          "text": [
            "Epoch 1:\n",
            "[TRAIN] [    0/45500] Loss: 3.260340\n",
            "[TRAIN] [ 3200/45500] Loss: 3.229055\n",
            "[TRAIN] [ 6400/45500] Loss: 2.473343\n",
            "[TRAIN] [ 9600/45500] Loss: 1.414227\n",
            "[TRAIN] [12800/45500] Loss: 0.980164\n",
            "[TRAIN] [16000/45500] Loss: 1.269112\n",
            "[TRAIN] [19200/45500] Loss: 0.983441\n",
            "[TRAIN] [22400/45500] Loss: 0.720474\n",
            "[TRAIN] [25600/45500] Loss: 0.866404\n",
            "[TRAIN] [28800/45500] Loss: 0.782983\n",
            "[TRAIN] [32000/45500] Loss: 0.848399\n",
            "[TRAIN] [35200/45500] Loss: 0.503399\n",
            "[TRAIN] [38400/45500] Loss: 0.773314\n",
            "[TRAIN] [41600/45500] Loss: 0.900863\n",
            "[TRAIN] [44800/45500] Loss: 0.556263\n",
            "[VALIDATION] Stats:\n",
            "Accuracy: 78.7%\n",
            "Average loss: 0.693576\n",
            "\n",
            "Epoch 2:\n",
            "[TRAIN] [    0/45500] Loss: 0.640231\n",
            "[TRAIN] [ 3200/45500] Loss: 0.365056\n",
            "[TRAIN] [ 6400/45500] Loss: 0.483092\n",
            "[TRAIN] [ 9600/45500] Loss: 0.611410\n",
            "[TRAIN] [12800/45500] Loss: 0.445342\n",
            "[TRAIN] [16000/45500] Loss: 0.264954\n",
            "[TRAIN] [19200/45500] Loss: 0.519983\n",
            "[TRAIN] [22400/45500] Loss: 0.569014\n",
            "[TRAIN] [25600/45500] Loss: 0.357949\n",
            "[TRAIN] [28800/45500] Loss: 0.322880\n",
            "[TRAIN] [32000/45500] Loss: 0.465554\n",
            "[TRAIN] [35200/45500] Loss: 0.823371\n",
            "[TRAIN] [38400/45500] Loss: 1.151559\n",
            "[TRAIN] [41600/45500] Loss: 0.597967\n",
            "[TRAIN] [44800/45500] Loss: 0.528401\n",
            "[VALIDATION] Stats:\n",
            "Accuracy: 82.0%\n",
            "Average loss: 0.571348\n",
            "\n",
            "Epoch 3:\n",
            "[TRAIN] [    0/45500] Loss: 0.724224\n",
            "[TRAIN] [ 3200/45500] Loss: 0.223571\n",
            "[TRAIN] [ 6400/45500] Loss: 0.610127\n",
            "[TRAIN] [ 9600/45500] Loss: 0.546853\n",
            "[TRAIN] [12800/45500] Loss: 0.501693\n",
            "[TRAIN] [16000/45500] Loss: 0.682572\n",
            "[TRAIN] [19200/45500] Loss: 0.444396\n",
            "[TRAIN] [22400/45500] Loss: 0.269588\n",
            "[TRAIN] [25600/45500] Loss: 0.615759\n",
            "[TRAIN] [28800/45500] Loss: 0.749524\n",
            "[TRAIN] [32000/45500] Loss: 0.449107\n",
            "[TRAIN] [35200/45500] Loss: 0.773105\n",
            "[TRAIN] [38400/45500] Loss: 0.256215\n",
            "[TRAIN] [41600/45500] Loss: 0.409933\n",
            "[TRAIN] [44800/45500] Loss: 0.567584\n",
            "[VALIDATION] Stats:\n",
            "Accuracy: 83.2%\n",
            "Average loss: 0.533206\n",
            "\n",
            "Epoch 4:\n",
            "[TRAIN] [    0/45500] Loss: 0.483064\n",
            "[TRAIN] [ 3200/45500] Loss: 0.406964\n",
            "[TRAIN] [ 6400/45500] Loss: 0.623744\n",
            "[TRAIN] [ 9600/45500] Loss: 0.310180\n",
            "[TRAIN] [12800/45500] Loss: 1.088427\n",
            "[TRAIN] [16000/45500] Loss: 0.469371\n",
            "[TRAIN] [19200/45500] Loss: 0.311884\n",
            "[TRAIN] [22400/45500] Loss: 0.516548\n",
            "[TRAIN] [25600/45500] Loss: 0.359359\n",
            "[TRAIN] [28800/45500] Loss: 0.419857\n",
            "[TRAIN] [32000/45500] Loss: 0.392906\n",
            "[TRAIN] [35200/45500] Loss: 0.548149\n",
            "[TRAIN] [38400/45500] Loss: 0.443850\n",
            "[TRAIN] [41600/45500] Loss: 0.475110\n",
            "[TRAIN] [44800/45500] Loss: 0.656124\n",
            "[VALIDATION] Stats:\n",
            "Accuracy: 84.3%\n",
            "Average loss: 0.513303\n",
            "\n",
            "Epoch 5:\n",
            "[TRAIN] [    0/45500] Loss: 0.507834\n",
            "[TRAIN] [ 3200/45500] Loss: 0.268035\n",
            "[TRAIN] [ 6400/45500] Loss: 0.366594\n",
            "[TRAIN] [ 9600/45500] Loss: 0.172380\n",
            "[TRAIN] [12800/45500] Loss: 0.167358\n",
            "[TRAIN] [16000/45500] Loss: 0.444386\n",
            "[TRAIN] [19200/45500] Loss: 0.328155\n",
            "[TRAIN] [22400/45500] Loss: 0.326323\n",
            "[TRAIN] [25600/45500] Loss: 0.566906\n",
            "[TRAIN] [28800/45500] Loss: 0.862366\n",
            "[TRAIN] [32000/45500] Loss: 0.406311\n",
            "[TRAIN] [35200/45500] Loss: 0.809935\n",
            "[TRAIN] [38400/45500] Loss: 0.586850\n",
            "[TRAIN] [41600/45500] Loss: 0.469379\n",
            "[TRAIN] [44800/45500] Loss: 0.181369\n",
            "[VALIDATION] Stats:\n",
            "Accuracy: 83.9%\n",
            "Average loss: 0.523750\n",
            "\n",
            "Epoch 6:\n",
            "[TRAIN] [    0/45500] Loss: 0.288053\n",
            "[TRAIN] [ 3200/45500] Loss: 0.321730\n",
            "[TRAIN] [ 6400/45500] Loss: 0.469741\n",
            "[TRAIN] [ 9600/45500] Loss: 0.322720\n",
            "[TRAIN] [12800/45500] Loss: 0.383501\n",
            "[TRAIN] [16000/45500] Loss: 0.473059\n",
            "[TRAIN] [19200/45500] Loss: 0.232214\n",
            "[TRAIN] [22400/45500] Loss: 0.638842\n",
            "[TRAIN] [25600/45500] Loss: 0.121548\n",
            "[TRAIN] [28800/45500] Loss: 0.362737\n",
            "[TRAIN] [32000/45500] Loss: 0.503531\n",
            "[TRAIN] [35200/45500] Loss: 0.198811\n",
            "[TRAIN] [38400/45500] Loss: 0.461754\n",
            "[TRAIN] [41600/45500] Loss: 0.320480\n",
            "[TRAIN] [44800/45500] Loss: 0.369440\n",
            "[VALIDATION] Stats:\n",
            "Accuracy: 84.4%\n",
            "Average loss: 0.506404\n",
            "\n",
            "Epoch 7:\n",
            "[TRAIN] [    0/45500] Loss: 1.220545\n",
            "[TRAIN] [ 3200/45500] Loss: 0.480602\n",
            "[TRAIN] [ 6400/45500] Loss: 0.421628\n",
            "[TRAIN] [ 9600/45500] Loss: 0.287876\n",
            "[TRAIN] [12800/45500] Loss: 0.247141\n",
            "[TRAIN] [16000/45500] Loss: 0.386806\n",
            "[TRAIN] [19200/45500] Loss: 0.368663\n",
            "[TRAIN] [22400/45500] Loss: 0.250140\n",
            "[TRAIN] [25600/45500] Loss: 0.455662\n",
            "[TRAIN] [28800/45500] Loss: 0.505725\n",
            "[TRAIN] [32000/45500] Loss: 0.251284\n",
            "[TRAIN] [35200/45500] Loss: 0.238781\n",
            "[TRAIN] [38400/45500] Loss: 0.418292\n",
            "[TRAIN] [41600/45500] Loss: 0.430554\n",
            "[TRAIN] [44800/45500] Loss: 0.580669\n",
            "[VALIDATION] Stats:\n",
            "Accuracy: 84.4%\n",
            "Average loss: 0.514212\n",
            "\n",
            "Epoch 8:\n",
            "[TRAIN] [    0/45500] Loss: 0.479675\n",
            "[TRAIN] [ 3200/45500] Loss: 0.163457\n",
            "[TRAIN] [ 6400/45500] Loss: 0.740708\n",
            "[TRAIN] [ 9600/45500] Loss: 0.354506\n",
            "[TRAIN] [12800/45500] Loss: 0.323602\n",
            "[TRAIN] [16000/45500] Loss: 0.281987\n",
            "[TRAIN] [19200/45500] Loss: 0.661588\n",
            "[TRAIN] [22400/45500] Loss: 0.318072\n",
            "[TRAIN] [25600/45500] Loss: 0.332169\n",
            "[TRAIN] [28800/45500] Loss: 0.561511\n",
            "[TRAIN] [32000/45500] Loss: 0.053850\n",
            "[TRAIN] [35200/45500] Loss: 0.229729\n",
            "[TRAIN] [38400/45500] Loss: 0.170161\n",
            "[TRAIN] [41600/45500] Loss: 0.143303\n",
            "[TRAIN] [44800/45500] Loss: 0.417845\n",
            "[VALIDATION] Stats:\n",
            "Accuracy: 84.9%\n",
            "Average loss: 0.490283\n",
            "\n",
            "Epoch 9:\n",
            "[TRAIN] [    0/45500] Loss: 0.213981\n",
            "[TRAIN] [ 3200/45500] Loss: 0.216060\n",
            "[TRAIN] [ 6400/45500] Loss: 0.248426\n",
            "[TRAIN] [ 9600/45500] Loss: 0.470959\n",
            "[TRAIN] [12800/45500] Loss: 0.182511\n",
            "[TRAIN] [16000/45500] Loss: 0.257612\n",
            "[TRAIN] [19200/45500] Loss: 0.393728\n",
            "[TRAIN] [22400/45500] Loss: 0.372360\n",
            "[TRAIN] [25600/45500] Loss: 0.151700\n",
            "[TRAIN] [28800/45500] Loss: 0.046668\n",
            "[TRAIN] [32000/45500] Loss: 0.222462\n",
            "[TRAIN] [35200/45500] Loss: 0.238271\n",
            "[TRAIN] [38400/45500] Loss: 0.280585\n",
            "[TRAIN] [41600/45500] Loss: 0.561155\n",
            "[TRAIN] [44800/45500] Loss: 0.187110\n",
            "[VALIDATION] Stats:\n",
            "Accuracy: 85.2%\n",
            "Average loss: 0.494782\n",
            "\n",
            "Epoch 10:\n",
            "[TRAIN] [    0/45500] Loss: 0.340717\n",
            "[TRAIN] [ 3200/45500] Loss: 0.891492\n",
            "[TRAIN] [ 6400/45500] Loss: 0.222323\n",
            "[TRAIN] [ 9600/45500] Loss: 0.146733\n",
            "[TRAIN] [12800/45500] Loss: 0.146576\n",
            "[TRAIN] [16000/45500] Loss: 0.307714\n",
            "[TRAIN] [19200/45500] Loss: 0.203216\n",
            "[TRAIN] [22400/45500] Loss: 0.259911\n",
            "[TRAIN] [25600/45500] Loss: 0.290969\n",
            "[TRAIN] [28800/45500] Loss: 0.261865\n",
            "[TRAIN] [32000/45500] Loss: 0.452689\n",
            "[TRAIN] [35200/45500] Loss: 0.115375\n",
            "[TRAIN] [38400/45500] Loss: 0.068408\n",
            "[TRAIN] [41600/45500] Loss: 0.155801\n",
            "[TRAIN] [44800/45500] Loss: 0.055595\n",
            "[VALIDATION] Stats:\n",
            "Accuracy: 88.8%\n",
            "Average loss: 0.390333\n",
            "\n",
            "=============================\n"
          ]
        }
      ]
    },
    {
      "cell_type": "code",
      "metadata": {
        "colab": {
          "base_uri": "https://localhost:8080/"
        },
        "id": "Gi9C87rWl7lU",
        "outputId": "e747fd81-7da6-4003-b887-a1d7a658f19f"
      },
      "source": [
        "conv_nn_3_gn.tb"
      ],
      "execution_count": 109,
      "outputs": [
        {
          "output_type": "execute_result",
          "data": {
            "text/plain": [
              "<torch.utils.tensorboard.writer.SummaryWriter at 0x1cfd5cad0a0>"
            ]
          },
          "metadata": {},
          "execution_count": 109
        }
      ]
    },
    {
      "cell_type": "markdown",
      "metadata": {
        "id": "c_eD9CW7qRpi"
      },
      "source": [
        "**Бонусные задания**"
      ]
    },
    {
      "cell_type": "markdown",
      "metadata": {
        "id": "PfJh9-dIqcr8"
      },
      "source": [
        "*Задание 2. Transfer learning: AlexNet*"
      ]
    },
    {
      "cell_type": "code",
      "metadata": {
        "id": "CGwqnToaqiZ9"
      },
      "source": [
        "squeezenet1_0_model = models.squeezenet1_0()"
      ],
      "execution_count": 74,
      "outputs": []
    },
    {
      "cell_type": "code",
      "metadata": {
        "id": "YmaqO1xLrji9"
      },
      "source": [
        "squeezenet1_0 = Model(model=squeezenet1_0_model, mode='NCHW', \n",
        "              datasets=[dataset_train, dataset_val, dataset_test],\n",
        "              batch_size=32, criterion=nn.CrossEntropyLoss(), \n",
        "              optimizer=optim.SGD(squeezenet1_0_model.parameters(), \n",
        "                                  lr=0.001, momentum=0.9))"
      ],
      "execution_count": 75,
      "outputs": []
    },
    {
      "cell_type": "code",
      "metadata": {
        "colab": {
          "base_uri": "https://localhost:8080/"
        },
        "id": "vDc9spRIryEQ",
        "outputId": "f36409ed-084c-4867-b979-6856dbe94803"
      },
      "source": [
        "squeezenet1_0.learn(10)"
      ],
      "execution_count": 81,
      "outputs": [
        {
          "output_type": "stream",
          "name": "stdout",
          "text": [
            "Epoch 1:\n",
            "[TRAIN] [    0/45500] Loss: 0.150624\n",
            "[TRAIN] [ 3200/45500] Loss: 0.242464\n",
            "[TRAIN] [ 6400/45500] Loss: 0.076268\n",
            "[TRAIN] [ 9600/45500] Loss: 0.048410\n",
            "[TRAIN] [12800/45500] Loss: 0.093472\n",
            "[TRAIN] [16000/45500] Loss: 0.187770\n",
            "[TRAIN] [19200/45500] Loss: 0.084868\n",
            "[TRAIN] [22400/45500] Loss: 0.107517\n",
            "[TRAIN] [25600/45500] Loss: 0.094064\n",
            "[TRAIN] [28800/45500] Loss: 0.255458\n",
            "[TRAIN] [32000/45500] Loss: 0.124050\n",
            "[TRAIN] [35200/45500] Loss: 0.133561\n",
            "[TRAIN] [38400/45500] Loss: 0.155471\n",
            "[TRAIN] [41600/45500] Loss: 0.224445\n",
            "[TRAIN] [44800/45500] Loss: 0.554901\n",
            "[VALIDATION] Stats:\n",
            "Accuracy: 92.3%\n",
            "Average loss: 0.246158\n",
            "\n",
            "=============================\n"
          ]
        }
      ]
    },
    {
      "cell_type": "markdown",
      "metadata": {
        "id": "m6s0tqtExApE"
      },
      "source": [
        "SqueezeNet показала результаты не более 93%"
      ]
    },
    {
      "cell_type": "code",
      "metadata": {
        "id": "c8SzPCx5xGnx"
      },
      "source": [
        "mobilenet_v2_model = models.mobilenet_v2()"
      ],
      "execution_count": 94,
      "outputs": []
    },
    {
      "cell_type": "code",
      "metadata": {
        "id": "4lXiIdF9xJ1Y"
      },
      "source": [
        "mobilenet_v2 = Model(model=mobilenet_v2_model, mode='NCHW', \n",
        "              datasets=[dataset_train, dataset_val, dataset_test],\n",
        "              batch_size=32, criterion=nn.CrossEntropyLoss(), \n",
        "              optimizer=optim.SGD(mobilenet_v2_model.parameters(), \n",
        "                                  lr=0.001, momentum=0.9))"
      ],
      "execution_count": 95,
      "outputs": []
    },
    {
      "cell_type": "code",
      "metadata": {
        "colab": {
          "base_uri": "https://localhost:8080/"
        },
        "id": "cHc0Rxm9xLAD",
        "outputId": "5f37cdcd-b2f0-4ad3-be0a-35aa1e605c58"
      },
      "source": [
        "mobilenet_v2.learn(10)"
      ],
      "execution_count": 96,
      "outputs": [
        {
          "output_type": "stream",
          "name": "stdout",
          "text": [
            "Epoch 1:\n",
            "[TRAIN] [    0/45500] Loss: 6.929721\n",
            "[TRAIN] [ 3200/45500] Loss: 3.391506\n",
            "[TRAIN] [ 6400/45500] Loss: 2.965456\n",
            "[TRAIN] [ 9600/45500] Loss: 2.042739\n",
            "[TRAIN] [12800/45500] Loss: 1.680615\n",
            "[TRAIN] [16000/45500] Loss: 1.579372\n",
            "[TRAIN] [19200/45500] Loss: 1.286599\n",
            "[TRAIN] [22400/45500] Loss: 1.041623\n",
            "[TRAIN] [25600/45500] Loss: 1.016049\n",
            "[TRAIN] [28800/45500] Loss: 0.941437\n",
            "[TRAIN] [32000/45500] Loss: 1.233910\n",
            "[TRAIN] [35200/45500] Loss: 1.148206\n",
            "[TRAIN] [38400/45500] Loss: 0.930782\n",
            "[TRAIN] [41600/45500] Loss: 0.650535\n",
            "[TRAIN] [44800/45500] Loss: 0.515959\n",
            "[VALIDATION] Stats:\n",
            "Accuracy: 81.9%\n",
            "Average loss: 0.589884\n",
            "\n",
            "Epoch 2:\n",
            "[TRAIN] [    0/45500] Loss: 0.818603\n",
            "[TRAIN] [ 3200/45500] Loss: 0.530778\n",
            "[TRAIN] [ 6400/45500] Loss: 0.386296\n",
            "[TRAIN] [ 9600/45500] Loss: 0.463665\n",
            "[TRAIN] [12800/45500] Loss: 0.619936\n",
            "[TRAIN] [16000/45500] Loss: 0.655366\n",
            "[TRAIN] [19200/45500] Loss: 0.587561\n",
            "[TRAIN] [22400/45500] Loss: 0.486682\n",
            "[TRAIN] [25600/45500] Loss: 0.410641\n",
            "[TRAIN] [28800/45500] Loss: 0.813399\n",
            "[TRAIN] [32000/45500] Loss: 0.379545\n",
            "[TRAIN] [35200/45500] Loss: 0.625897\n",
            "[TRAIN] [38400/45500] Loss: 0.731507\n",
            "[TRAIN] [41600/45500] Loss: 0.319723\n",
            "[TRAIN] [44800/45500] Loss: 0.966701\n",
            "[VALIDATION] Stats:\n",
            "Accuracy: 87.8%\n",
            "Average loss: 0.386059\n",
            "\n",
            "Epoch 3:\n",
            "[TRAIN] [    0/45500] Loss: 0.309663\n",
            "[TRAIN] [ 3200/45500] Loss: 0.376779\n",
            "[TRAIN] [ 6400/45500] Loss: 0.606400\n",
            "[TRAIN] [ 9600/45500] Loss: 0.842779\n",
            "[TRAIN] [12800/45500] Loss: 0.339771\n",
            "[TRAIN] [16000/45500] Loss: 0.367090\n",
            "[TRAIN] [19200/45500] Loss: 0.256153\n",
            "[TRAIN] [22400/45500] Loss: 0.276131\n",
            "[TRAIN] [25600/45500] Loss: 0.376371\n",
            "[TRAIN] [28800/45500] Loss: 0.543547\n",
            "[TRAIN] [32000/45500] Loss: 0.466720\n",
            "[TRAIN] [35200/45500] Loss: 0.422004\n",
            "[TRAIN] [38400/45500] Loss: 0.208775\n",
            "[TRAIN] [41600/45500] Loss: 0.281612\n",
            "[TRAIN] [44800/45500] Loss: 0.722901\n",
            "[VALIDATION] Stats:\n",
            "Accuracy: 89.6%\n",
            "Average loss: 0.325301\n",
            "\n",
            "Epoch 4:\n",
            "[TRAIN] [    0/45500] Loss: 0.320885\n",
            "[TRAIN] [ 3200/45500] Loss: 0.256308\n",
            "[TRAIN] [ 6400/45500] Loss: 0.372201\n",
            "[TRAIN] [ 9600/45500] Loss: 0.224519\n",
            "[TRAIN] [12800/45500] Loss: 0.425589\n",
            "[TRAIN] [16000/45500] Loss: 0.186867\n",
            "[TRAIN] [19200/45500] Loss: 0.331846\n",
            "[TRAIN] [22400/45500] Loss: 0.172767\n",
            "[TRAIN] [25600/45500] Loss: 0.257818\n",
            "[TRAIN] [28800/45500] Loss: 0.436907\n",
            "[TRAIN] [32000/45500] Loss: 0.185005\n",
            "[TRAIN] [35200/45500] Loss: 0.546369\n",
            "[TRAIN] [38400/45500] Loss: 0.382433\n",
            "[TRAIN] [41600/45500] Loss: 0.211067\n",
            "[TRAIN] [44800/45500] Loss: 0.418761\n",
            "[VALIDATION] Stats:\n",
            "Accuracy: 90.8%\n",
            "Average loss: 0.278693\n",
            "\n",
            "Epoch 5:\n",
            "[TRAIN] [    0/45500] Loss: 0.098615\n",
            "[TRAIN] [ 3200/45500] Loss: 0.266698\n",
            "[TRAIN] [ 6400/45500] Loss: 0.257082\n",
            "[TRAIN] [ 9600/45500] Loss: 0.078481\n",
            "[TRAIN] [12800/45500] Loss: 0.354580\n",
            "[TRAIN] [16000/45500] Loss: 0.263727\n",
            "[TRAIN] [19200/45500] Loss: 0.373617\n",
            "[TRAIN] [22400/45500] Loss: 0.091517\n",
            "[TRAIN] [25600/45500] Loss: 0.192943\n",
            "[TRAIN] [28800/45500] Loss: 0.341556\n",
            "[TRAIN] [32000/45500] Loss: 0.818896\n",
            "[TRAIN] [35200/45500] Loss: 0.292940\n",
            "[TRAIN] [38400/45500] Loss: 0.395232\n",
            "[TRAIN] [41600/45500] Loss: 0.432478\n",
            "[TRAIN] [44800/45500] Loss: 0.165419\n",
            "[VALIDATION] Stats:\n",
            "Accuracy: 90.5%\n",
            "Average loss: 0.283320\n",
            "\n",
            "Epoch 6:\n",
            "[TRAIN] [    0/45500] Loss: 0.363005\n",
            "[TRAIN] [ 3200/45500] Loss: 0.299623\n",
            "[TRAIN] [ 6400/45500] Loss: 0.806439\n",
            "[TRAIN] [ 9600/45500] Loss: 0.338063\n",
            "[TRAIN] [12800/45500] Loss: 0.127219\n",
            "[TRAIN] [16000/45500] Loss: 0.386296\n",
            "[TRAIN] [19200/45500] Loss: 0.236027\n",
            "[TRAIN] [22400/45500] Loss: 0.175073\n",
            "[TRAIN] [25600/45500] Loss: 0.465269\n",
            "[TRAIN] [28800/45500] Loss: 0.101455\n",
            "[TRAIN] [32000/45500] Loss: 0.213890\n",
            "[TRAIN] [35200/45500] Loss: 0.613533\n",
            "[TRAIN] [38400/45500] Loss: 0.239565\n",
            "[TRAIN] [41600/45500] Loss: 0.292674\n",
            "[TRAIN] [44800/45500] Loss: 0.150635\n",
            "[VALIDATION] Stats:\n",
            "Accuracy: 91.8%\n",
            "Average loss: 0.254138\n",
            "\n",
            "Epoch 7:\n",
            "[TRAIN] [    0/45500] Loss: 0.380197\n",
            "[TRAIN] [ 3200/45500] Loss: 0.140717\n",
            "[TRAIN] [ 6400/45500] Loss: 0.353517\n",
            "[TRAIN] [ 9600/45500] Loss: 0.189392\n",
            "[TRAIN] [12800/45500] Loss: 0.296163\n",
            "[TRAIN] [16000/45500] Loss: 0.202915\n",
            "[TRAIN] [19200/45500] Loss: 0.185135\n",
            "[TRAIN] [22400/45500] Loss: 0.145202\n",
            "[TRAIN] [25600/45500] Loss: 0.306685\n",
            "[TRAIN] [28800/45500] Loss: 0.130317\n",
            "[TRAIN] [32000/45500] Loss: 0.313826\n",
            "[TRAIN] [35200/45500] Loss: 0.167370\n",
            "[TRAIN] [38400/45500] Loss: 0.148818\n",
            "[TRAIN] [41600/45500] Loss: 0.289480\n",
            "[TRAIN] [44800/45500] Loss: 0.141838\n",
            "[VALIDATION] Stats:\n",
            "Accuracy: 92.1%\n",
            "Average loss: 0.241084\n",
            "\n",
            "Epoch 8:\n",
            "[TRAIN] [    0/45500] Loss: 0.502221\n",
            "[TRAIN] [ 3200/45500] Loss: 0.176845\n",
            "[TRAIN] [ 6400/45500] Loss: 0.196804\n",
            "[TRAIN] [ 9600/45500] Loss: 0.066697\n",
            "[TRAIN] [12800/45500] Loss: 0.331402\n",
            "[TRAIN] [16000/45500] Loss: 0.120579\n",
            "[TRAIN] [19200/45500] Loss: 0.419123\n",
            "[TRAIN] [22400/45500] Loss: 0.103079\n",
            "[TRAIN] [25600/45500] Loss: 0.217087\n",
            "[TRAIN] [28800/45500] Loss: 0.237232\n",
            "[TRAIN] [32000/45500] Loss: 0.049960\n",
            "[TRAIN] [35200/45500] Loss: 0.209564\n",
            "[TRAIN] [38400/45500] Loss: 0.151060\n",
            "[TRAIN] [41600/45500] Loss: 0.096194\n",
            "[TRAIN] [44800/45500] Loss: 0.147780\n",
            "[VALIDATION] Stats:\n",
            "Accuracy: 92.2%\n",
            "Average loss: 0.240608\n",
            "\n",
            "Epoch 9:\n",
            "[TRAIN] [    0/45500] Loss: 0.393438\n",
            "[TRAIN] [ 3200/45500] Loss: 0.161099\n",
            "[TRAIN] [ 6400/45500] Loss: 0.137979\n",
            "[TRAIN] [ 9600/45500] Loss: 0.265465\n",
            "[TRAIN] [12800/45500] Loss: 0.158720\n",
            "[TRAIN] [16000/45500] Loss: 0.119354\n",
            "[TRAIN] [19200/45500] Loss: 0.315665\n",
            "[TRAIN] [22400/45500] Loss: 0.142508\n",
            "[TRAIN] [25600/45500] Loss: 0.128695\n",
            "[TRAIN] [28800/45500] Loss: 0.172987\n",
            "[TRAIN] [32000/45500] Loss: 0.134809\n",
            "[TRAIN] [35200/45500] Loss: 0.212639\n",
            "[TRAIN] [38400/45500] Loss: 0.391474\n",
            "[TRAIN] [41600/45500] Loss: 0.369112\n",
            "[TRAIN] [44800/45500] Loss: 0.285857\n",
            "[VALIDATION] Stats:\n",
            "Accuracy: 92.0%\n",
            "Average loss: 0.238640\n",
            "\n",
            "Epoch 10:\n",
            "[TRAIN] [    0/45500] Loss: 0.187599\n",
            "[TRAIN] [ 3200/45500] Loss: 0.207273\n",
            "[TRAIN] [ 6400/45500] Loss: 0.146324\n",
            "[TRAIN] [ 9600/45500] Loss: 0.231027\n",
            "[TRAIN] [12800/45500] Loss: 0.110999\n",
            "[TRAIN] [16000/45500] Loss: 0.524119\n",
            "[TRAIN] [19200/45500] Loss: 0.261853\n",
            "[TRAIN] [22400/45500] Loss: 0.361629\n",
            "[TRAIN] [25600/45500] Loss: 0.204579\n",
            "[TRAIN] [28800/45500] Loss: 0.137524\n",
            "[TRAIN] [32000/45500] Loss: 0.092050\n",
            "[TRAIN] [35200/45500] Loss: 0.274880\n",
            "[TRAIN] [38400/45500] Loss: 0.308949\n",
            "[TRAIN] [41600/45500] Loss: 0.229284\n",
            "[TRAIN] [44800/45500] Loss: 0.272342\n",
            "[VALIDATION] Stats:\n",
            "Accuracy: 92.4%\n",
            "Average loss: 0.231740\n",
            "\n",
            "=============================\n"
          ]
        }
      ]
    },
    {
      "cell_type": "markdown",
      "metadata": {
        "id": "ZVEp4Ocsw-1b"
      },
      "source": [
        ""
      ]
    },
    {
      "cell_type": "markdown",
      "metadata": {
        "id": "oenz2GX9myXi"
      },
      "source": [
        "*Tensorboard*"
      ]
    },
    {
      "cell_type": "code",
      "metadata": {
        "colab": {
          "base_uri": "https://localhost:8080/"
        },
        "id": "yOSTHWOSncbN",
        "outputId": "1a871cea-6030-4680-b1b6-51f8bd7c29e9"
      },
      "source": [
        "%load_ext tensorboard"
      ],
      "execution_count": 125,
      "outputs": [
        {
          "output_type": "stream",
          "name": "stdout",
          "text": [
            "The tensorboard extension is already loaded. To reload it, use:\n",
            "  %reload_ext tensorboard\n"
          ]
        }
      ]
    },
    {
      "cell_type": "code",
      "metadata": {
        "id": "49uobHBDnTWh"
      },
      "source": [
        "test_tb = mobilenet_v2.tb"
      ],
      "execution_count": 128,
      "outputs": []
    },
    {
      "cell_type": "code",
      "metadata": {
        "colab": {
          "base_uri": "https://localhost:8080/",
          "height": 839
        },
        "id": "NTxaM1N1m0k0",
        "outputId": "13812de4-133e-478f-91bd-a67607ccab30"
      },
      "source": [
        "%tensorboard --logdir boards --host=127.0.0.1"
      ],
      "execution_count": 129,
      "outputs": [
        {
          "output_type": "display_data",
          "data": {
            "text/plain": [
              "Reusing TensorBoard on port 6006 (pid 6736), started 0:08:01 ago. (Use '!kill 6736' to kill it.)"
            ]
          },
          "metadata": {}
        },
        {
          "output_type": "display_data",
          "data": {
            "text/plain": [
              "<IPython.core.display.HTML object>"
            ],
            "text/html": [
              "\n",
              "      <iframe id=\"tensorboard-frame-a53f9b6885055bed\" width=\"100%\" height=\"800\" frameborder=\"0\">\n",
              "      </iframe>\n",
              "      <script>\n",
              "        (function() {\n",
              "          const frame = document.getElementById(\"tensorboard-frame-a53f9b6885055bed\");\n",
              "          const url = new URL(\"/\", window.location);\n",
              "          const port = 6006;\n",
              "          if (port) {\n",
              "            url.port = port;\n",
              "          }\n",
              "          frame.src = url;\n",
              "        })();\n",
              "      </script>\n",
              "    "
            ]
          },
          "metadata": {}
        }
      ]
    },
    {
      "cell_type": "markdown",
      "metadata": {
        "id": "m6CAsR8vZ6z4"
      },
      "source": [
        "## Основные задания"
      ]
    },
    {
      "cell_type": "markdown",
      "metadata": {
        "id": "KTIG3rESZ6z4"
      },
      "source": [
        "Ваша задача - создать и обучить модель на основе нейронной сети, которая будет предсказывать букву на картинке.  \n",
        "Обучение необходимо проводить на данных из `train`, качество модели проверять на данных из `test`.  \n",
        "Целевая метрика - accuracy.  \n",
        "Для моделирования необходимо использовать `pytorch`."
      ]
    },
    {
      "cell_type": "markdown",
      "metadata": {
        "id": "VI1Xeif4Z6z4"
      },
      "source": [
        "### Задание 1  \n",
        "  \n",
        "*Вес в общей оценке - 0.35*  \n",
        "  \n",
        "1. Постройте и обучите модели с 2-мя и 3-мя полносвязными (dense) скрытыми слоями.  \n",
        "При моделировании необходимо попробовать разные параметры нейронной сети - число нейронов на каждом слое, learning rate, batch size, функции активации, регуляризации и т.д. Оцените качество моделей с различными параметрами, проведите сравнительный анализ. \n",
        "2. Для наилучшей модели постройте confusion matrix результатов предсказаний модели на тестовых данных.  \n",
        "Насколько равномерно обучилась ваша модель? Приведите буквы с самой лучшей и с самой худшей точностью детекции.\n",
        "3. Найдите 10 пар букв, которые чаще всего путаются между собой, дайте возможное объяснение. Приведите примеры с картинками, которые были детектированы с ошибкой.\n",
        "4. Возьмите первую букву вашей фамилии и укажите её точность детекции. С какими буквами ваша модель чаще всего путает эту букву?     "
      ]
    },
    {
      "cell_type": "markdown",
      "metadata": {
        "id": "4V2KyDRfZ6z5"
      },
      "source": [
        "### Задание 2  \n",
        "  \n",
        "*Вес в общей оценке - 0.35*  \n",
        "  \n",
        "1. Постройте и обучите модели нейронной сети с 1-м, 2-мя и 3-мя сверточными слоями.  \n",
        "Попробуйте различные значения параметров сверток и числа фильтров на каждом слое. Оцените качество моделей с различными параметрами, проведите сравнительный анализ.  \n",
        "2. Для наилучшей конфигурации из предыдущего пункта, сравните, как меняется качество модели при увеличении размера батча при использовании BatchNorm и GroupNorm.    "
      ]
    },
    {
      "cell_type": "markdown",
      "metadata": {
        "id": "pQ6fA4xrZ6z5"
      },
      "source": [
        "### Задание 3    \n",
        "  \n",
        "Обучите модель с точностью (accuracy) на тестовых данных:  \n",
        "- `>= 0.85`    +1 балл\n",
        "- `>= 0.95`    +2 балла\n",
        "- `>= 0.99`    +3 балла  "
      ]
    },
    {
      "cell_type": "markdown",
      "metadata": {
        "id": "Blf_F3usZ6z5"
      },
      "source": [
        "## Бонусные задания"
      ]
    },
    {
      "cell_type": "markdown",
      "metadata": {
        "id": "SrAxVuSNZ6z6"
      },
      "source": [
        "**Задание 1 (1 балл).**  \n",
        "\n",
        "Напишите на листке белой бумаги (маркером или ручкой) от 5 разных букв (можно больше 5 букв в целом с повторениями, но должно быть минимум 5 разных) английского алфавита (в датасете есть как прописные, так и строчные буквы). Сфотографируйте букву и приведите её картинку к размеру $28\\times28$ и, желательно, к чёрно-белой палитре цветов. Передайте получившиеся изображения вашей модели и выполните предсказание, оцените результат.  \n",
        "  \n",
        "**Tips:**  \n",
        "- В датасете все буквы занимают практически всё пространство картинки по высоте или ширине (или вместе). Если ваша буква будет слишком маленькой или большой, это может повлиять на результат детекции.\n",
        "- Помните, что буква должна быть белого цвета, а фон - чёрного.\n",
        "- Описание ваших действий при выполнении этого задания (что вы использовали, чтобы привести картинку к нужному виду) категорически приветствуется :)"
      ]
    },
    {
      "cell_type": "markdown",
      "metadata": {
        "id": "YS-GF_FDZ6z7"
      },
      "source": [
        "**Задание 2 (1 балл):**    \n",
        "  \n",
        "Используйте transfer learning подход для решения задачи - дообучите какую-либо модель, предобученную на ImageNet, для классификации рукописных букв. Оцените качество решения.  \n",
        "В качестве предобученой модели можно взять одну из [torchvision models](https://pytorch.org/vision/stable/models.html)."
      ]
    },
    {
      "cell_type": "markdown",
      "metadata": {
        "id": "cL6U0nTXZ6z7"
      },
      "source": [
        "**Задание 3 (1 балл):**  \n",
        "  \n",
        "Добавьте вывод значений функции потерь и accuracy в tensorboard.  \n",
        "Метрики нужно выводить и для обучающей, и для тестовой выборки."
      ]
    }
  ]
}